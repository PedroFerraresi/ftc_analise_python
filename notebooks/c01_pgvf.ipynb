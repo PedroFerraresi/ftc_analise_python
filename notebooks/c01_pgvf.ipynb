{
 "cells": [
  {
   "cell_type": "markdown",
   "metadata": {},
   "source": [
    "# 0.0. IMPORTS"
   ]
  },
  {
   "cell_type": "code",
   "execution_count": 134,
   "metadata": {},
   "outputs": [],
   "source": [
    "import pandas as pd\n",
    "import numpy as np\n",
    "import streamlit as st\n",
    "import plotly.express as px\n",
    "\n",
    "import inflection"
   ]
  },
  {
   "cell_type": "markdown",
   "metadata": {},
   "source": [
    "## 0.1. Helper Variables"
   ]
  },
  {
   "cell_type": "code",
   "execution_count": 135,
   "metadata": {},
   "outputs": [],
   "source": [
    "RAW_DATA_PATH = f\"../data/raw/data.csv\"\n",
    "\n",
    "COUNTRIES = {\n",
    "    1: \"India\",\n",
    "    14: \"Australia\",\n",
    "    30: \"Brazil\",\n",
    "    37: \"Canada\",\n",
    "    94: \"Indonesia\",\n",
    "    148: \"New Zeland\",\n",
    "    162: \"Philippines\",\n",
    "    166: \"Qatar\",\n",
    "    184: \"Singapure\",\n",
    "    189: \"South Africa\",\n",
    "    191: \"Sri Lanka\",\n",
    "    208: \"Turkey\",\n",
    "    214: \"United Arab Emirates\",\n",
    "    215: \"England\",\n",
    "    216: \"United States of America\",\n",
    "}\n",
    "\n",
    "\n",
    "COLORS = {\n",
    "    \"3F7E00\": \"darkgreen\",\n",
    "    \"5BA829\": \"green\",\n",
    "    \"9ACD32\": \"lightgreen\",\n",
    "    \"CDD614\": \"orange\",\n",
    "    \"FFBA00\": \"red\",\n",
    "    \"CBCBC8\": \"darkred\",\n",
    "    \"FF7800\": \"darkred\",\n",
    "}"
   ]
  },
  {
   "cell_type": "markdown",
   "metadata": {},
   "source": [
    "## 0.2. Helper Functions"
   ]
  },
  {
   "cell_type": "code",
   "execution_count": 136,
   "metadata": {},
   "outputs": [],
   "source": [
    "def show_dataframe_dimensions(dataframe):\n",
    "    print(f\"Number of Rows: {dataframe.shape[0]}\")\n",
    "    print(f\"Number of Columns: {dataframe.shape[1]}\")\n",
    "    \n",
    "    return None"
   ]
  },
  {
   "cell_type": "code",
   "execution_count": 137,
   "metadata": {},
   "outputs": [],
   "source": [
    "def get_numerical_attributes(dataframe):\n",
    "    return dataframe.select_dtypes(include=['int64', 'float64'])"
   ]
  },
  {
   "cell_type": "code",
   "execution_count": 138,
   "metadata": {},
   "outputs": [],
   "source": [
    "def get_first_order_statistics(dataframe):\n",
    "    # Central Tendency Metrics\n",
    "    mean = pd.DataFrame(dataframe.apply(np.mean)).T\n",
    "    median = pd.DataFrame(dataframe.apply(np.median)).T\n",
    "\n",
    "    # Dispersion Metrics\n",
    "    min_ = pd.DataFrame(dataframe.apply(min)).T\n",
    "    max_ = pd.DataFrame(dataframe.apply(max)).T\n",
    "    range_ = pd.DataFrame(dataframe.apply(lambda x: x.max() - x.min())).T\n",
    "    std = pd.DataFrame(dataframe.apply(np.std)).T\n",
    "    skew = pd.DataFrame(dataframe.apply(lambda x: x.skew())).T\n",
    "    kurtosis = pd.DataFrame(dataframe.apply(lambda x: x.kurtosis())).T\n",
    "\n",
    "    # Metrics Concatenation\n",
    "    m = pd.concat([min_, max_, range_, mean, median, std, skew, kurtosis]).T.reset_index()\n",
    "    m.columns = ['attributes', 'min', 'max', 'range', 'mean', 'median', 'std', 'skew', 'kurtosis']\n",
    "    \n",
    "    return m"
   ]
  },
  {
   "cell_type": "code",
   "execution_count": 139,
   "metadata": {},
   "outputs": [],
   "source": [
    "def rename_columns(dataframe):\n",
    "    df = dataframe.copy()\n",
    "\n",
    "    title = lambda x: inflection.titleize(x)\n",
    "\n",
    "    snakecase = lambda x: inflection.underscore(x)\n",
    "\n",
    "    spaces = lambda x: x.replace(\" \", \"\")\n",
    "\n",
    "    cols_old = list(df.columns)\n",
    "\n",
    "    cols_old = list(map(title, cols_old))\n",
    "\n",
    "    cols_old = list(map(spaces, cols_old))\n",
    "\n",
    "    cols_new = list(map(snakecase, cols_old))\n",
    "\n",
    "    df.columns = cols_new\n",
    "\n",
    "    return df"
   ]
  },
  {
   "cell_type": "code",
   "execution_count": 140,
   "metadata": {},
   "outputs": [],
   "source": [
    "def country_name(country_id):\n",
    "    return COUNTRIES[country_id]"
   ]
  },
  {
   "cell_type": "code",
   "execution_count": 141,
   "metadata": {},
   "outputs": [],
   "source": [
    "def color_name(color_code):\n",
    "    return COLORS[color_code]"
   ]
  },
  {
   "cell_type": "code",
   "execution_count": 142,
   "metadata": {},
   "outputs": [],
   "source": [
    "def create_price_tye(price_range):\n",
    "    if price_range == 1:\n",
    "        return \"cheap\"\n",
    "    elif price_range == 2:\n",
    "        return \"normal\"\n",
    "    elif price_range == 3:\n",
    "        return \"expensive\"\n",
    "    else:\n",
    "        return \"gourmet\""
   ]
  },
  {
   "cell_type": "code",
   "execution_count": 143,
   "metadata": {},
   "outputs": [],
   "source": [
    "def adjust_columns_order(dataframe):\n",
    "    df = dataframe.copy()\n",
    "\n",
    "    new_cols_order = [\n",
    "        \"restaurant_id\",\n",
    "        \"restaurant_name\",\n",
    "        \"country\",\n",
    "        \"city\",\n",
    "        \"address\",\n",
    "        \"locality\",\n",
    "        \"locality_verbose\",\n",
    "        \"longitude\",\n",
    "        \"latitude\",\n",
    "        \"cuisines\",\n",
    "        \"price_type\",\n",
    "        \"average_cost_for_two\",\n",
    "        \"currency\",\n",
    "        \"has_table_booking\",\n",
    "        \"has_online_delivery\",\n",
    "        \"is_delivering_now\",\n",
    "        \"aggregate_rating\",\n",
    "        \"rating_color\",\n",
    "        \"color_name\",\n",
    "        \"rating_text\",\n",
    "        \"votes\",\n",
    "    ]\n",
    "\n",
    "    return df.loc[:, new_cols_order]"
   ]
  },
  {
   "cell_type": "code",
   "execution_count": 144,
   "metadata": {},
   "outputs": [],
   "source": [
    "def process_data(file_path):\n",
    "    df = pd.read_csv(file_path)\n",
    "\n",
    "    df = df.dropna()\n",
    "\n",
    "    df = rename_columns(df)\n",
    "\n",
    "    df[\"price_type\"] = df.loc[:, \"price_range\"].apply(lambda x: create_price_tye(x))\n",
    "\n",
    "    df[\"country\"] = df.loc[:, \"country_code\"].apply(lambda x: country_name(x))\n",
    "\n",
    "    df[\"color_name\"] = df.loc[:, \"rating_color\"].apply(lambda x: color_name(x))\n",
    "\n",
    "    df[\"cuisines\"] = df.loc[:, \"cuisines\"].apply(lambda x: x.split(\",\")[0])\n",
    "\n",
    "    df = df.drop_duplicates()\n",
    "\n",
    "    df = adjust_columns_order(df)\n",
    "\n",
    "    df.to_csv(\"../data/processed/data.csv\", index=False)\n",
    "\n",
    "    return df"
   ]
  },
  {
   "cell_type": "markdown",
   "metadata": {},
   "source": [
    "## 0.3. Helper Configurations"
   ]
  },
  {
   "cell_type": "code",
   "execution_count": 145,
   "metadata": {},
   "outputs": [],
   "source": [
    "pd.set_option('display.max_rows', 500)\n",
    "pd.set_option('display.max_columns', 500)"
   ]
  },
  {
   "cell_type": "markdown",
   "metadata": {},
   "source": [
    "## 0.4. Load Data"
   ]
  },
  {
   "cell_type": "code",
   "execution_count": 146,
   "metadata": {},
   "outputs": [
    {
     "data": {
      "text/html": [
       "<div>\n",
       "<style scoped>\n",
       "    .dataframe tbody tr th:only-of-type {\n",
       "        vertical-align: middle;\n",
       "    }\n",
       "\n",
       "    .dataframe tbody tr th {\n",
       "        vertical-align: top;\n",
       "    }\n",
       "\n",
       "    .dataframe thead th {\n",
       "        text-align: right;\n",
       "    }\n",
       "</style>\n",
       "<table border=\"1\" class=\"dataframe\">\n",
       "  <thead>\n",
       "    <tr style=\"text-align: right;\">\n",
       "      <th></th>\n",
       "      <th>Restaurant ID</th>\n",
       "      <th>Restaurant Name</th>\n",
       "      <th>Country Code</th>\n",
       "      <th>City</th>\n",
       "      <th>Address</th>\n",
       "      <th>Locality</th>\n",
       "      <th>Locality Verbose</th>\n",
       "      <th>Longitude</th>\n",
       "      <th>Latitude</th>\n",
       "      <th>Cuisines</th>\n",
       "      <th>Average Cost for two</th>\n",
       "      <th>Currency</th>\n",
       "      <th>Has Table booking</th>\n",
       "      <th>Has Online delivery</th>\n",
       "      <th>Is delivering now</th>\n",
       "      <th>Switch to order menu</th>\n",
       "      <th>Price range</th>\n",
       "      <th>Aggregate rating</th>\n",
       "      <th>Rating color</th>\n",
       "      <th>Rating text</th>\n",
       "      <th>Votes</th>\n",
       "    </tr>\n",
       "  </thead>\n",
       "  <tbody>\n",
       "    <tr>\n",
       "      <th>0</th>\n",
       "      <td>6310675</td>\n",
       "      <td>Mama Lou's Italian Kitchen</td>\n",
       "      <td>162</td>\n",
       "      <td>Las Piñas City</td>\n",
       "      <td>Block 1, Lot 36, Tropical Avenue Corner Tropic...</td>\n",
       "      <td>BF International</td>\n",
       "      <td>BF International, Las Piñas City</td>\n",
       "      <td>121.009787</td>\n",
       "      <td>14.447615</td>\n",
       "      <td>Italian</td>\n",
       "      <td>1100</td>\n",
       "      <td>Botswana Pula(P)</td>\n",
       "      <td>1</td>\n",
       "      <td>0</td>\n",
       "      <td>0</td>\n",
       "      <td>0</td>\n",
       "      <td>3</td>\n",
       "      <td>4.6</td>\n",
       "      <td>3F7E00</td>\n",
       "      <td>Excellent</td>\n",
       "      <td>619</td>\n",
       "    </tr>\n",
       "    <tr>\n",
       "      <th>1</th>\n",
       "      <td>6310675</td>\n",
       "      <td>Mama Lou's Italian Kitchen</td>\n",
       "      <td>162</td>\n",
       "      <td>Las Piñas City</td>\n",
       "      <td>Block 1, Lot 36, Tropical Avenue Corner Tropic...</td>\n",
       "      <td>BF International</td>\n",
       "      <td>BF International, Las Piñas City</td>\n",
       "      <td>121.009787</td>\n",
       "      <td>14.447615</td>\n",
       "      <td>Italian</td>\n",
       "      <td>1100</td>\n",
       "      <td>Botswana Pula(P)</td>\n",
       "      <td>1</td>\n",
       "      <td>0</td>\n",
       "      <td>0</td>\n",
       "      <td>0</td>\n",
       "      <td>3</td>\n",
       "      <td>4.6</td>\n",
       "      <td>3F7E00</td>\n",
       "      <td>Excellent</td>\n",
       "      <td>619</td>\n",
       "    </tr>\n",
       "    <tr>\n",
       "      <th>2</th>\n",
       "      <td>6314542</td>\n",
       "      <td>Blackbird</td>\n",
       "      <td>162</td>\n",
       "      <td>Makati City</td>\n",
       "      <td>Nielson Tower, Ayala Triangle Gardens, Salcedo...</td>\n",
       "      <td>Ayala Triangle Gardens, Salcedo Village, Makat...</td>\n",
       "      <td>Ayala Triangle Gardens, Salcedo Village, Makat...</td>\n",
       "      <td>121.024562</td>\n",
       "      <td>14.556042</td>\n",
       "      <td>European, Asian</td>\n",
       "      <td>3100</td>\n",
       "      <td>Botswana Pula(P)</td>\n",
       "      <td>0</td>\n",
       "      <td>0</td>\n",
       "      <td>0</td>\n",
       "      <td>0</td>\n",
       "      <td>4</td>\n",
       "      <td>4.7</td>\n",
       "      <td>3F7E00</td>\n",
       "      <td>Excellent</td>\n",
       "      <td>469</td>\n",
       "    </tr>\n",
       "    <tr>\n",
       "      <th>3</th>\n",
       "      <td>6301293</td>\n",
       "      <td>Banapple</td>\n",
       "      <td>162</td>\n",
       "      <td>Makati City</td>\n",
       "      <td>Ayala Triangle Gardens, Salcedo Village, Makat...</td>\n",
       "      <td>Ayala Triangle Gardens, Salcedo Village, Makat...</td>\n",
       "      <td>Ayala Triangle Gardens, Salcedo Village, Makat...</td>\n",
       "      <td>121.023171</td>\n",
       "      <td>14.556196</td>\n",
       "      <td>Filipino, American, Italian, Bakery</td>\n",
       "      <td>800</td>\n",
       "      <td>Botswana Pula(P)</td>\n",
       "      <td>0</td>\n",
       "      <td>0</td>\n",
       "      <td>0</td>\n",
       "      <td>0</td>\n",
       "      <td>3</td>\n",
       "      <td>4.4</td>\n",
       "      <td>5BA829</td>\n",
       "      <td>Very Good</td>\n",
       "      <td>867</td>\n",
       "    </tr>\n",
       "    <tr>\n",
       "      <th>4</th>\n",
       "      <td>6315689</td>\n",
       "      <td>Bad Bird</td>\n",
       "      <td>162</td>\n",
       "      <td>Makati City</td>\n",
       "      <td>Hole In The Wall, Floor 4, Century City Mall, ...</td>\n",
       "      <td>Century City Mall, Poblacion, Makati City</td>\n",
       "      <td>Century City Mall, Poblacion, Makati City, Mak...</td>\n",
       "      <td>121.027708</td>\n",
       "      <td>14.565899</td>\n",
       "      <td>American</td>\n",
       "      <td>700</td>\n",
       "      <td>Botswana Pula(P)</td>\n",
       "      <td>0</td>\n",
       "      <td>0</td>\n",
       "      <td>0</td>\n",
       "      <td>0</td>\n",
       "      <td>3</td>\n",
       "      <td>4.4</td>\n",
       "      <td>5BA829</td>\n",
       "      <td>Very Good</td>\n",
       "      <td>858</td>\n",
       "    </tr>\n",
       "  </tbody>\n",
       "</table>\n",
       "</div>"
      ],
      "text/plain": [
       "   Restaurant ID             Restaurant Name  Country Code            City  \\\n",
       "0        6310675  Mama Lou's Italian Kitchen           162  Las Piñas City   \n",
       "1        6310675  Mama Lou's Italian Kitchen           162  Las Piñas City   \n",
       "2        6314542                   Blackbird           162     Makati City   \n",
       "3        6301293                    Banapple           162     Makati City   \n",
       "4        6315689                    Bad Bird           162     Makati City   \n",
       "\n",
       "                                             Address  \\\n",
       "0  Block 1, Lot 36, Tropical Avenue Corner Tropic...   \n",
       "1  Block 1, Lot 36, Tropical Avenue Corner Tropic...   \n",
       "2  Nielson Tower, Ayala Triangle Gardens, Salcedo...   \n",
       "3  Ayala Triangle Gardens, Salcedo Village, Makat...   \n",
       "4  Hole In The Wall, Floor 4, Century City Mall, ...   \n",
       "\n",
       "                                            Locality  \\\n",
       "0                                   BF International   \n",
       "1                                   BF International   \n",
       "2  Ayala Triangle Gardens, Salcedo Village, Makat...   \n",
       "3  Ayala Triangle Gardens, Salcedo Village, Makat...   \n",
       "4          Century City Mall, Poblacion, Makati City   \n",
       "\n",
       "                                    Locality Verbose   Longitude   Latitude  \\\n",
       "0                   BF International, Las Piñas City  121.009787  14.447615   \n",
       "1                   BF International, Las Piñas City  121.009787  14.447615   \n",
       "2  Ayala Triangle Gardens, Salcedo Village, Makat...  121.024562  14.556042   \n",
       "3  Ayala Triangle Gardens, Salcedo Village, Makat...  121.023171  14.556196   \n",
       "4  Century City Mall, Poblacion, Makati City, Mak...  121.027708  14.565899   \n",
       "\n",
       "                              Cuisines  Average Cost for two  \\\n",
       "0                              Italian                  1100   \n",
       "1                              Italian                  1100   \n",
       "2                      European, Asian                  3100   \n",
       "3  Filipino, American, Italian, Bakery                   800   \n",
       "4                             American                   700   \n",
       "\n",
       "           Currency  Has Table booking  Has Online delivery  \\\n",
       "0  Botswana Pula(P)                  1                    0   \n",
       "1  Botswana Pula(P)                  1                    0   \n",
       "2  Botswana Pula(P)                  0                    0   \n",
       "3  Botswana Pula(P)                  0                    0   \n",
       "4  Botswana Pula(P)                  0                    0   \n",
       "\n",
       "   Is delivering now  Switch to order menu  Price range  Aggregate rating  \\\n",
       "0                  0                     0            3               4.6   \n",
       "1                  0                     0            3               4.6   \n",
       "2                  0                     0            4               4.7   \n",
       "3                  0                     0            3               4.4   \n",
       "4                  0                     0            3               4.4   \n",
       "\n",
       "  Rating color Rating text  Votes  \n",
       "0       3F7E00   Excellent    619  \n",
       "1       3F7E00   Excellent    619  \n",
       "2       3F7E00   Excellent    469  \n",
       "3       5BA829   Very Good    867  \n",
       "4       5BA829   Very Good    858  "
      ]
     },
     "execution_count": 146,
     "metadata": {},
     "output_type": "execute_result"
    }
   ],
   "source": [
    "df_raw = pd.read_csv(RAW_DATA_PATH)\n",
    "df_raw.head()"
   ]
  },
  {
   "cell_type": "markdown",
   "metadata": {},
   "source": [
    "# 1.0. DATA DESCRIPTION"
   ]
  },
  {
   "cell_type": "code",
   "execution_count": 147,
   "metadata": {},
   "outputs": [
    {
     "data": {
      "text/html": [
       "<div>\n",
       "<style scoped>\n",
       "    .dataframe tbody tr th:only-of-type {\n",
       "        vertical-align: middle;\n",
       "    }\n",
       "\n",
       "    .dataframe tbody tr th {\n",
       "        vertical-align: top;\n",
       "    }\n",
       "\n",
       "    .dataframe thead th {\n",
       "        text-align: right;\n",
       "    }\n",
       "</style>\n",
       "<table border=\"1\" class=\"dataframe\">\n",
       "  <thead>\n",
       "    <tr style=\"text-align: right;\">\n",
       "      <th></th>\n",
       "      <th>Restaurant ID</th>\n",
       "      <th>Restaurant Name</th>\n",
       "      <th>Country Code</th>\n",
       "      <th>City</th>\n",
       "      <th>Address</th>\n",
       "      <th>Locality</th>\n",
       "      <th>Locality Verbose</th>\n",
       "      <th>Longitude</th>\n",
       "      <th>Latitude</th>\n",
       "      <th>Cuisines</th>\n",
       "      <th>Average Cost for two</th>\n",
       "      <th>Currency</th>\n",
       "      <th>Has Table booking</th>\n",
       "      <th>Has Online delivery</th>\n",
       "      <th>Is delivering now</th>\n",
       "      <th>Switch to order menu</th>\n",
       "      <th>Price range</th>\n",
       "      <th>Aggregate rating</th>\n",
       "      <th>Rating color</th>\n",
       "      <th>Rating text</th>\n",
       "      <th>Votes</th>\n",
       "    </tr>\n",
       "  </thead>\n",
       "  <tbody>\n",
       "    <tr>\n",
       "      <th>0</th>\n",
       "      <td>6310675</td>\n",
       "      <td>Mama Lou's Italian Kitchen</td>\n",
       "      <td>162</td>\n",
       "      <td>Las Piñas City</td>\n",
       "      <td>Block 1, Lot 36, Tropical Avenue Corner Tropic...</td>\n",
       "      <td>BF International</td>\n",
       "      <td>BF International, Las Piñas City</td>\n",
       "      <td>121.009787</td>\n",
       "      <td>14.447615</td>\n",
       "      <td>Italian</td>\n",
       "      <td>1100</td>\n",
       "      <td>Botswana Pula(P)</td>\n",
       "      <td>1</td>\n",
       "      <td>0</td>\n",
       "      <td>0</td>\n",
       "      <td>0</td>\n",
       "      <td>3</td>\n",
       "      <td>4.6</td>\n",
       "      <td>3F7E00</td>\n",
       "      <td>Excellent</td>\n",
       "      <td>619</td>\n",
       "    </tr>\n",
       "    <tr>\n",
       "      <th>1</th>\n",
       "      <td>6310675</td>\n",
       "      <td>Mama Lou's Italian Kitchen</td>\n",
       "      <td>162</td>\n",
       "      <td>Las Piñas City</td>\n",
       "      <td>Block 1, Lot 36, Tropical Avenue Corner Tropic...</td>\n",
       "      <td>BF International</td>\n",
       "      <td>BF International, Las Piñas City</td>\n",
       "      <td>121.009787</td>\n",
       "      <td>14.447615</td>\n",
       "      <td>Italian</td>\n",
       "      <td>1100</td>\n",
       "      <td>Botswana Pula(P)</td>\n",
       "      <td>1</td>\n",
       "      <td>0</td>\n",
       "      <td>0</td>\n",
       "      <td>0</td>\n",
       "      <td>3</td>\n",
       "      <td>4.6</td>\n",
       "      <td>3F7E00</td>\n",
       "      <td>Excellent</td>\n",
       "      <td>619</td>\n",
       "    </tr>\n",
       "    <tr>\n",
       "      <th>2</th>\n",
       "      <td>6314542</td>\n",
       "      <td>Blackbird</td>\n",
       "      <td>162</td>\n",
       "      <td>Makati City</td>\n",
       "      <td>Nielson Tower, Ayala Triangle Gardens, Salcedo...</td>\n",
       "      <td>Ayala Triangle Gardens, Salcedo Village, Makat...</td>\n",
       "      <td>Ayala Triangle Gardens, Salcedo Village, Makat...</td>\n",
       "      <td>121.024562</td>\n",
       "      <td>14.556042</td>\n",
       "      <td>European, Asian</td>\n",
       "      <td>3100</td>\n",
       "      <td>Botswana Pula(P)</td>\n",
       "      <td>0</td>\n",
       "      <td>0</td>\n",
       "      <td>0</td>\n",
       "      <td>0</td>\n",
       "      <td>4</td>\n",
       "      <td>4.7</td>\n",
       "      <td>3F7E00</td>\n",
       "      <td>Excellent</td>\n",
       "      <td>469</td>\n",
       "    </tr>\n",
       "    <tr>\n",
       "      <th>3</th>\n",
       "      <td>6301293</td>\n",
       "      <td>Banapple</td>\n",
       "      <td>162</td>\n",
       "      <td>Makati City</td>\n",
       "      <td>Ayala Triangle Gardens, Salcedo Village, Makat...</td>\n",
       "      <td>Ayala Triangle Gardens, Salcedo Village, Makat...</td>\n",
       "      <td>Ayala Triangle Gardens, Salcedo Village, Makat...</td>\n",
       "      <td>121.023171</td>\n",
       "      <td>14.556196</td>\n",
       "      <td>Filipino, American, Italian, Bakery</td>\n",
       "      <td>800</td>\n",
       "      <td>Botswana Pula(P)</td>\n",
       "      <td>0</td>\n",
       "      <td>0</td>\n",
       "      <td>0</td>\n",
       "      <td>0</td>\n",
       "      <td>3</td>\n",
       "      <td>4.4</td>\n",
       "      <td>5BA829</td>\n",
       "      <td>Very Good</td>\n",
       "      <td>867</td>\n",
       "    </tr>\n",
       "    <tr>\n",
       "      <th>4</th>\n",
       "      <td>6315689</td>\n",
       "      <td>Bad Bird</td>\n",
       "      <td>162</td>\n",
       "      <td>Makati City</td>\n",
       "      <td>Hole In The Wall, Floor 4, Century City Mall, ...</td>\n",
       "      <td>Century City Mall, Poblacion, Makati City</td>\n",
       "      <td>Century City Mall, Poblacion, Makati City, Mak...</td>\n",
       "      <td>121.027708</td>\n",
       "      <td>14.565899</td>\n",
       "      <td>American</td>\n",
       "      <td>700</td>\n",
       "      <td>Botswana Pula(P)</td>\n",
       "      <td>0</td>\n",
       "      <td>0</td>\n",
       "      <td>0</td>\n",
       "      <td>0</td>\n",
       "      <td>3</td>\n",
       "      <td>4.4</td>\n",
       "      <td>5BA829</td>\n",
       "      <td>Very Good</td>\n",
       "      <td>858</td>\n",
       "    </tr>\n",
       "  </tbody>\n",
       "</table>\n",
       "</div>"
      ],
      "text/plain": [
       "   Restaurant ID             Restaurant Name  Country Code            City  \\\n",
       "0        6310675  Mama Lou's Italian Kitchen           162  Las Piñas City   \n",
       "1        6310675  Mama Lou's Italian Kitchen           162  Las Piñas City   \n",
       "2        6314542                   Blackbird           162     Makati City   \n",
       "3        6301293                    Banapple           162     Makati City   \n",
       "4        6315689                    Bad Bird           162     Makati City   \n",
       "\n",
       "                                             Address  \\\n",
       "0  Block 1, Lot 36, Tropical Avenue Corner Tropic...   \n",
       "1  Block 1, Lot 36, Tropical Avenue Corner Tropic...   \n",
       "2  Nielson Tower, Ayala Triangle Gardens, Salcedo...   \n",
       "3  Ayala Triangle Gardens, Salcedo Village, Makat...   \n",
       "4  Hole In The Wall, Floor 4, Century City Mall, ...   \n",
       "\n",
       "                                            Locality  \\\n",
       "0                                   BF International   \n",
       "1                                   BF International   \n",
       "2  Ayala Triangle Gardens, Salcedo Village, Makat...   \n",
       "3  Ayala Triangle Gardens, Salcedo Village, Makat...   \n",
       "4          Century City Mall, Poblacion, Makati City   \n",
       "\n",
       "                                    Locality Verbose   Longitude   Latitude  \\\n",
       "0                   BF International, Las Piñas City  121.009787  14.447615   \n",
       "1                   BF International, Las Piñas City  121.009787  14.447615   \n",
       "2  Ayala Triangle Gardens, Salcedo Village, Makat...  121.024562  14.556042   \n",
       "3  Ayala Triangle Gardens, Salcedo Village, Makat...  121.023171  14.556196   \n",
       "4  Century City Mall, Poblacion, Makati City, Mak...  121.027708  14.565899   \n",
       "\n",
       "                              Cuisines  Average Cost for two  \\\n",
       "0                              Italian                  1100   \n",
       "1                              Italian                  1100   \n",
       "2                      European, Asian                  3100   \n",
       "3  Filipino, American, Italian, Bakery                   800   \n",
       "4                             American                   700   \n",
       "\n",
       "           Currency  Has Table booking  Has Online delivery  \\\n",
       "0  Botswana Pula(P)                  1                    0   \n",
       "1  Botswana Pula(P)                  1                    0   \n",
       "2  Botswana Pula(P)                  0                    0   \n",
       "3  Botswana Pula(P)                  0                    0   \n",
       "4  Botswana Pula(P)                  0                    0   \n",
       "\n",
       "   Is delivering now  Switch to order menu  Price range  Aggregate rating  \\\n",
       "0                  0                     0            3               4.6   \n",
       "1                  0                     0            3               4.6   \n",
       "2                  0                     0            4               4.7   \n",
       "3                  0                     0            3               4.4   \n",
       "4                  0                     0            3               4.4   \n",
       "\n",
       "  Rating color Rating text  Votes  \n",
       "0       3F7E00   Excellent    619  \n",
       "1       3F7E00   Excellent    619  \n",
       "2       3F7E00   Excellent    469  \n",
       "3       5BA829   Very Good    867  \n",
       "4       5BA829   Very Good    858  "
      ]
     },
     "execution_count": 147,
     "metadata": {},
     "output_type": "execute_result"
    }
   ],
   "source": [
    "df1 = df_raw.copy()\n",
    "df1.head()"
   ]
  },
  {
   "cell_type": "markdown",
   "metadata": {},
   "source": [
    "## 1.1. Columns Description"
   ]
  },
  {
   "cell_type": "markdown",
   "metadata": {},
   "source": [
    "| Column | Description |\n",
    "| :----- | :---------- |\n",
    "| Restaurant ID | ID do restaurante | \n",
    "| Restaurant Name | Nome do Restaurante |\n",
    "| Country Code | Código do País |\n",
    "| City | Nome da Cidade onde o restaurante está |\n",
    "| Address | Endereço do restaurante |\n",
    "| Locality | Localização e pontos de referência do restaurante |\n",
    "| Locality Verbose | Localização e pontos de referência do restaurante (Mais informações) |\n",
    "| Longitude | Ponto geográfico de Longitude do Restaurante |\n",
    "| Latitude | Ponto geográfico de Latitude do Restaurante |\n",
    "| Cuisines | Tipos de Culinária servidos no restaurante |\n",
    "| Average Cost for two | Preço Médio de um prato para duas pessoas no restaurante |\n",
    "| Currency | Moeda do país |\n",
    "| Has Table booking | Se o restaurante possui serviços de reserva; 1 - Sim; 0 - Não |\n",
    "| Has Online delivery | Se o restaurante possui serviços de pedido on-line; 1 - Sim; 0 - Não |\n",
    "| Is delivering now | Se o restaurante faz entregas; 1 - Sim; 0 - Não |\n",
    "| Switch to order menu | - |\n",
    "| Price range | Variação de preços do restaurante; 1 a 4 - Quanto maior o valor, mais caro serão os pratos |\n",
    "| Aggregate rating | Nota média do restaurante |\n",
    "| Rating color | Código Hexadecimal da cor do restaurante com base em sua nota média |\n",
    "| Rating text | Categoria em que o restaurante está com base em sua nota média |\n",
    "| Votes | Quantidade de avaliações que o restaurante já recebeu |"
   ]
  },
  {
   "cell_type": "markdown",
   "metadata": {},
   "source": [
    "## 1.2. Rename Columns"
   ]
  },
  {
   "cell_type": "code",
   "execution_count": 148,
   "metadata": {},
   "outputs": [
    {
     "data": {
      "text/html": [
       "<div>\n",
       "<style scoped>\n",
       "    .dataframe tbody tr th:only-of-type {\n",
       "        vertical-align: middle;\n",
       "    }\n",
       "\n",
       "    .dataframe tbody tr th {\n",
       "        vertical-align: top;\n",
       "    }\n",
       "\n",
       "    .dataframe thead th {\n",
       "        text-align: right;\n",
       "    }\n",
       "</style>\n",
       "<table border=\"1\" class=\"dataframe\">\n",
       "  <thead>\n",
       "    <tr style=\"text-align: right;\">\n",
       "      <th></th>\n",
       "      <th>restaurant_id</th>\n",
       "      <th>restaurant_name</th>\n",
       "      <th>country_code</th>\n",
       "      <th>city</th>\n",
       "      <th>address</th>\n",
       "      <th>locality</th>\n",
       "      <th>locality_verbose</th>\n",
       "      <th>longitude</th>\n",
       "      <th>latitude</th>\n",
       "      <th>cuisines</th>\n",
       "      <th>average_cost_for_two</th>\n",
       "      <th>currency</th>\n",
       "      <th>has_table_booking</th>\n",
       "      <th>has_online_delivery</th>\n",
       "      <th>is_delivering_now</th>\n",
       "      <th>switch_to_order_menu</th>\n",
       "      <th>price_range</th>\n",
       "      <th>aggregate_rating</th>\n",
       "      <th>rating_color</th>\n",
       "      <th>rating_text</th>\n",
       "      <th>votes</th>\n",
       "    </tr>\n",
       "  </thead>\n",
       "  <tbody>\n",
       "    <tr>\n",
       "      <th>0</th>\n",
       "      <td>6310675</td>\n",
       "      <td>Mama Lou's Italian Kitchen</td>\n",
       "      <td>162</td>\n",
       "      <td>Las Piñas City</td>\n",
       "      <td>Block 1, Lot 36, Tropical Avenue Corner Tropic...</td>\n",
       "      <td>BF International</td>\n",
       "      <td>BF International, Las Piñas City</td>\n",
       "      <td>121.009787</td>\n",
       "      <td>14.447615</td>\n",
       "      <td>Italian</td>\n",
       "      <td>1100</td>\n",
       "      <td>Botswana Pula(P)</td>\n",
       "      <td>1</td>\n",
       "      <td>0</td>\n",
       "      <td>0</td>\n",
       "      <td>0</td>\n",
       "      <td>3</td>\n",
       "      <td>4.6</td>\n",
       "      <td>3F7E00</td>\n",
       "      <td>Excellent</td>\n",
       "      <td>619</td>\n",
       "    </tr>\n",
       "    <tr>\n",
       "      <th>1</th>\n",
       "      <td>6310675</td>\n",
       "      <td>Mama Lou's Italian Kitchen</td>\n",
       "      <td>162</td>\n",
       "      <td>Las Piñas City</td>\n",
       "      <td>Block 1, Lot 36, Tropical Avenue Corner Tropic...</td>\n",
       "      <td>BF International</td>\n",
       "      <td>BF International, Las Piñas City</td>\n",
       "      <td>121.009787</td>\n",
       "      <td>14.447615</td>\n",
       "      <td>Italian</td>\n",
       "      <td>1100</td>\n",
       "      <td>Botswana Pula(P)</td>\n",
       "      <td>1</td>\n",
       "      <td>0</td>\n",
       "      <td>0</td>\n",
       "      <td>0</td>\n",
       "      <td>3</td>\n",
       "      <td>4.6</td>\n",
       "      <td>3F7E00</td>\n",
       "      <td>Excellent</td>\n",
       "      <td>619</td>\n",
       "    </tr>\n",
       "    <tr>\n",
       "      <th>2</th>\n",
       "      <td>6314542</td>\n",
       "      <td>Blackbird</td>\n",
       "      <td>162</td>\n",
       "      <td>Makati City</td>\n",
       "      <td>Nielson Tower, Ayala Triangle Gardens, Salcedo...</td>\n",
       "      <td>Ayala Triangle Gardens, Salcedo Village, Makat...</td>\n",
       "      <td>Ayala Triangle Gardens, Salcedo Village, Makat...</td>\n",
       "      <td>121.024562</td>\n",
       "      <td>14.556042</td>\n",
       "      <td>European, Asian</td>\n",
       "      <td>3100</td>\n",
       "      <td>Botswana Pula(P)</td>\n",
       "      <td>0</td>\n",
       "      <td>0</td>\n",
       "      <td>0</td>\n",
       "      <td>0</td>\n",
       "      <td>4</td>\n",
       "      <td>4.7</td>\n",
       "      <td>3F7E00</td>\n",
       "      <td>Excellent</td>\n",
       "      <td>469</td>\n",
       "    </tr>\n",
       "    <tr>\n",
       "      <th>3</th>\n",
       "      <td>6301293</td>\n",
       "      <td>Banapple</td>\n",
       "      <td>162</td>\n",
       "      <td>Makati City</td>\n",
       "      <td>Ayala Triangle Gardens, Salcedo Village, Makat...</td>\n",
       "      <td>Ayala Triangle Gardens, Salcedo Village, Makat...</td>\n",
       "      <td>Ayala Triangle Gardens, Salcedo Village, Makat...</td>\n",
       "      <td>121.023171</td>\n",
       "      <td>14.556196</td>\n",
       "      <td>Filipino, American, Italian, Bakery</td>\n",
       "      <td>800</td>\n",
       "      <td>Botswana Pula(P)</td>\n",
       "      <td>0</td>\n",
       "      <td>0</td>\n",
       "      <td>0</td>\n",
       "      <td>0</td>\n",
       "      <td>3</td>\n",
       "      <td>4.4</td>\n",
       "      <td>5BA829</td>\n",
       "      <td>Very Good</td>\n",
       "      <td>867</td>\n",
       "    </tr>\n",
       "    <tr>\n",
       "      <th>4</th>\n",
       "      <td>6315689</td>\n",
       "      <td>Bad Bird</td>\n",
       "      <td>162</td>\n",
       "      <td>Makati City</td>\n",
       "      <td>Hole In The Wall, Floor 4, Century City Mall, ...</td>\n",
       "      <td>Century City Mall, Poblacion, Makati City</td>\n",
       "      <td>Century City Mall, Poblacion, Makati City, Mak...</td>\n",
       "      <td>121.027708</td>\n",
       "      <td>14.565899</td>\n",
       "      <td>American</td>\n",
       "      <td>700</td>\n",
       "      <td>Botswana Pula(P)</td>\n",
       "      <td>0</td>\n",
       "      <td>0</td>\n",
       "      <td>0</td>\n",
       "      <td>0</td>\n",
       "      <td>3</td>\n",
       "      <td>4.4</td>\n",
       "      <td>5BA829</td>\n",
       "      <td>Very Good</td>\n",
       "      <td>858</td>\n",
       "    </tr>\n",
       "  </tbody>\n",
       "</table>\n",
       "</div>"
      ],
      "text/plain": [
       "   restaurant_id             restaurant_name  country_code            city  \\\n",
       "0        6310675  Mama Lou's Italian Kitchen           162  Las Piñas City   \n",
       "1        6310675  Mama Lou's Italian Kitchen           162  Las Piñas City   \n",
       "2        6314542                   Blackbird           162     Makati City   \n",
       "3        6301293                    Banapple           162     Makati City   \n",
       "4        6315689                    Bad Bird           162     Makati City   \n",
       "\n",
       "                                             address  \\\n",
       "0  Block 1, Lot 36, Tropical Avenue Corner Tropic...   \n",
       "1  Block 1, Lot 36, Tropical Avenue Corner Tropic...   \n",
       "2  Nielson Tower, Ayala Triangle Gardens, Salcedo...   \n",
       "3  Ayala Triangle Gardens, Salcedo Village, Makat...   \n",
       "4  Hole In The Wall, Floor 4, Century City Mall, ...   \n",
       "\n",
       "                                            locality  \\\n",
       "0                                   BF International   \n",
       "1                                   BF International   \n",
       "2  Ayala Triangle Gardens, Salcedo Village, Makat...   \n",
       "3  Ayala Triangle Gardens, Salcedo Village, Makat...   \n",
       "4          Century City Mall, Poblacion, Makati City   \n",
       "\n",
       "                                    locality_verbose   longitude   latitude  \\\n",
       "0                   BF International, Las Piñas City  121.009787  14.447615   \n",
       "1                   BF International, Las Piñas City  121.009787  14.447615   \n",
       "2  Ayala Triangle Gardens, Salcedo Village, Makat...  121.024562  14.556042   \n",
       "3  Ayala Triangle Gardens, Salcedo Village, Makat...  121.023171  14.556196   \n",
       "4  Century City Mall, Poblacion, Makati City, Mak...  121.027708  14.565899   \n",
       "\n",
       "                              cuisines  average_cost_for_two  \\\n",
       "0                              Italian                  1100   \n",
       "1                              Italian                  1100   \n",
       "2                      European, Asian                  3100   \n",
       "3  Filipino, American, Italian, Bakery                   800   \n",
       "4                             American                   700   \n",
       "\n",
       "           currency  has_table_booking  has_online_delivery  \\\n",
       "0  Botswana Pula(P)                  1                    0   \n",
       "1  Botswana Pula(P)                  1                    0   \n",
       "2  Botswana Pula(P)                  0                    0   \n",
       "3  Botswana Pula(P)                  0                    0   \n",
       "4  Botswana Pula(P)                  0                    0   \n",
       "\n",
       "   is_delivering_now  switch_to_order_menu  price_range  aggregate_rating  \\\n",
       "0                  0                     0            3               4.6   \n",
       "1                  0                     0            3               4.6   \n",
       "2                  0                     0            4               4.7   \n",
       "3                  0                     0            3               4.4   \n",
       "4                  0                     0            3               4.4   \n",
       "\n",
       "  rating_color rating_text  votes  \n",
       "0       3F7E00   Excellent    619  \n",
       "1       3F7E00   Excellent    619  \n",
       "2       3F7E00   Excellent    469  \n",
       "3       5BA829   Very Good    867  \n",
       "4       5BA829   Very Good    858  "
      ]
     },
     "execution_count": 148,
     "metadata": {},
     "output_type": "execute_result"
    }
   ],
   "source": [
    "df1 = rename_columns(df1)\n",
    "df1.head()"
   ]
  },
  {
   "cell_type": "markdown",
   "metadata": {},
   "source": [
    "## 1.3. Data Dimensions"
   ]
  },
  {
   "cell_type": "code",
   "execution_count": 149,
   "metadata": {},
   "outputs": [
    {
     "name": "stdout",
     "output_type": "stream",
     "text": [
      "Number of Rows: 7527\n",
      "Number of Columns: 21\n"
     ]
    }
   ],
   "source": [
    "show_dataframe_dimensions(df1)"
   ]
  },
  {
   "cell_type": "markdown",
   "metadata": {},
   "source": [
    "## 1.4. Data Types"
   ]
  },
  {
   "cell_type": "code",
   "execution_count": 150,
   "metadata": {},
   "outputs": [
    {
     "data": {
      "text/plain": [
       "restaurant_id             int64\n",
       "restaurant_name          object\n",
       "country_code              int64\n",
       "city                     object\n",
       "address                  object\n",
       "locality                 object\n",
       "locality_verbose         object\n",
       "longitude               float64\n",
       "latitude                float64\n",
       "cuisines                 object\n",
       "average_cost_for_two      int64\n",
       "currency                 object\n",
       "has_table_booking         int64\n",
       "has_online_delivery       int64\n",
       "is_delivering_now         int64\n",
       "switch_to_order_menu      int64\n",
       "price_range               int64\n",
       "aggregate_rating        float64\n",
       "rating_color             object\n",
       "rating_text              object\n",
       "votes                     int64\n",
       "dtype: object"
      ]
     },
     "execution_count": 150,
     "metadata": {},
     "output_type": "execute_result"
    }
   ],
   "source": [
    "df1.dtypes"
   ]
  },
  {
   "cell_type": "markdown",
   "metadata": {},
   "source": [
    "## 1.5. Check NA"
   ]
  },
  {
   "cell_type": "code",
   "execution_count": 151,
   "metadata": {},
   "outputs": [
    {
     "data": {
      "text/plain": [
       "restaurant_id            0\n",
       "restaurant_name          0\n",
       "country_code             0\n",
       "city                     0\n",
       "address                  0\n",
       "locality                 0\n",
       "locality_verbose         0\n",
       "longitude                0\n",
       "latitude                 0\n",
       "cuisines                15\n",
       "average_cost_for_two     0\n",
       "currency                 0\n",
       "has_table_booking        0\n",
       "has_online_delivery      0\n",
       "is_delivering_now        0\n",
       "switch_to_order_menu     0\n",
       "price_range              0\n",
       "aggregate_rating         0\n",
       "rating_color             0\n",
       "rating_text              0\n",
       "votes                    0\n",
       "dtype: int64"
      ]
     },
     "execution_count": 151,
     "metadata": {},
     "output_type": "execute_result"
    }
   ],
   "source": [
    "df1.isna().sum()"
   ]
  },
  {
   "cell_type": "code",
   "execution_count": 159,
   "metadata": {},
   "outputs": [
    {
     "data": {
      "text/plain": [
       "['Italian',\n",
       " 'European, Asian',\n",
       " 'Filipino, American, Italian, Bakery',\n",
       " 'American',\n",
       " 'Filipino',\n",
       " 'Korean, Grill',\n",
       " 'American, Filipino, Coffee',\n",
       " 'Pizza, Italian',\n",
       " 'Taiwanese',\n",
       " 'Japanese, Latin American',\n",
       " 'Japanese',\n",
       " 'Italian, Pizza',\n",
       " 'American, Filipino',\n",
       " 'Japanese, Sushi',\n",
       " 'Coffee, American, European',\n",
       " 'Japanese, Ramen',\n",
       " 'American, Italian, Bakery, Coffee',\n",
       " 'Chinese',\n",
       " 'Japanese, Korean',\n",
       " 'Coffee',\n",
       " 'European, Desserts',\n",
       " 'European, Steak, Bakery, Desserts',\n",
       " 'Filipino, Chinese',\n",
       " 'Seafood, Filipino, Asian, European',\n",
       " 'European, Asian, Indian',\n",
       " 'Korean',\n",
       " 'Filipino, Mexican',\n",
       " 'American, Burger',\n",
       " 'Singaporean, Street Food',\n",
       " 'Vietnamese',\n",
       " 'Latin American, Street Food',\n",
       " 'Filipino, Asian',\n",
       " 'Korean, Korean BBQ',\n",
       " 'Filipino, Coffee',\n",
       " 'European, Italian',\n",
       " 'American, Asian',\n",
       " 'European, American',\n",
       " 'European, Filipino, American',\n",
       " 'American, European',\n",
       " 'Coffee, Japanese',\n",
       " 'Japanese, Asian',\n",
       " 'Seafood, American, Mediterranean, Japanese',\n",
       " 'European, Filipino',\n",
       " 'Healthy Food',\n",
       " 'Cafe, Desserts',\n",
       " 'Fast Food, French',\n",
       " 'Brazilian',\n",
       " 'Argentine, Contemporary',\n",
       " 'Arabian',\n",
       " 'Cafe',\n",
       " 'Bakery',\n",
       " 'Tex-Mex, Mexican',\n",
       " 'Bar Food',\n",
       " 'Seafood, Brazilian',\n",
       " 'International',\n",
       " 'Pizza',\n",
       " 'Bar Food, Brazilian',\n",
       " 'French',\n",
       " 'Arabian, Brazilian, Pizza',\n",
       " 'Steak',\n",
       " 'German',\n",
       " 'Cafe, Brazilian',\n",
       " 'Brazilian, Grill',\n",
       " 'Sushi, Japanese',\n",
       " 'Brazilian, North Eastern',\n",
       " 'Japanese, Bar Food',\n",
       " 'Grill, Brazilian',\n",
       " 'Peruvian',\n",
       " 'Peruvian, Latin American',\n",
       " 'American, Grill',\n",
       " 'Seafood',\n",
       " 'Brazilian, Seafood',\n",
       " 'North Eastern, Bar Food',\n",
       " 'Ice Cream',\n",
       " 'Steak, Burger',\n",
       " 'Grill, American',\n",
       " 'American, International',\n",
       " 'Brazilian, Gourmet Fast Food, Healthy Food, Street Food',\n",
       " 'Italian, Fast Food',\n",
       " 'Burger, Fast Food',\n",
       " 'Mexican, Grill',\n",
       " 'Vegetarian, Healthy Food',\n",
       " 'Seafood, Bar Food, Brazilian',\n",
       " 'Steak, Brazilian',\n",
       " 'Brazilian, Steak',\n",
       " 'Contemporary',\n",
       " 'Japanese, Thai, Asian',\n",
       " 'Japanese, Contemporary',\n",
       " 'Desserts, Cafe',\n",
       " 'Brazilian, Bar Food',\n",
       " 'Juices, Healthy Food',\n",
       " 'Steak, Grill, Brazilian',\n",
       " 'Beverages, Bar Food, Fast Food',\n",
       " 'Seafood, International, Grill',\n",
       " 'Brazilian, Cafe',\n",
       " 'Arabian, Lebanese',\n",
       " 'Cafe, Bakery, Brazilian',\n",
       " 'Burger',\n",
       " 'Brazilian, Healthy Food, Juices, Pizza',\n",
       " 'Spanish',\n",
       " 'French, Author',\n",
       " 'Brazilian, Contemporary',\n",
       " 'Cafe, Bakery',\n",
       " 'Mexican',\n",
       " 'Brazilian, Grill, Seafood',\n",
       " 'Juices, Healthy Food, Burger',\n",
       " 'French, Steak',\n",
       " 'Thai',\n",
       " 'Italian, Contemporary',\n",
       " 'Healthy Food, Juices',\n",
       " 'Brazilian, Cafe, Healthy Food',\n",
       " 'American, Fast Food',\n",
       " 'Brazilian, North Eastern, Seafood',\n",
       " 'Steak, BBQ',\n",
       " 'Indian',\n",
       " 'Mineira, Brazilian',\n",
       " 'Beverages, International',\n",
       " 'French, Brazilian, Beverages',\n",
       " 'American, Mediterranean, Contemporary, Burger',\n",
       " 'BBQ, Steak',\n",
       " 'French, Contemporary, Steak',\n",
       " 'Vegetarian, Contemporary, Healthy Food',\n",
       " 'French, Italian, Brazilian',\n",
       " 'Mongolian, Grill',\n",
       " 'Portuguese',\n",
       " 'Spanish, Tapas',\n",
       " 'BBQ, Grill, Brazilian',\n",
       " 'Contemporary, Brazilian',\n",
       " 'Burger, Sandwich',\n",
       " 'BBQ',\n",
       " 'Greek',\n",
       " 'Asian, Japanese, Thai, Korean, Brazilian, Chinese',\n",
       " 'Brazilian, Fast Food',\n",
       " 'Sushi',\n",
       " 'French, Italian',\n",
       " 'Author, Fusion, Brazilian',\n",
       " 'Gourmet Fast Food, Burger',\n",
       " 'Brazilian, Beverages',\n",
       " 'Brazilian, Italian',\n",
       " 'Brazilian, Mineira',\n",
       " 'Beverages',\n",
       " 'Brazilian, Bar Food, Beverages',\n",
       " 'Lebanese, Arabian',\n",
       " 'Korean, Dumplings',\n",
       " 'Modern Australian',\n",
       " 'Desserts',\n",
       " 'American, Burger, Sandwich',\n",
       " 'African, BBQ',\n",
       " 'Asian, Thai',\n",
       " 'Coffee and Tea, Cafe Food',\n",
       " 'Asian, Vietnamese',\n",
       " 'Vegetarian, Coffee and Tea, Cafe Food',\n",
       " 'Australian, Desserts',\n",
       " 'Asian, Indian, Singaporean',\n",
       " 'Desserts, Coffee and Tea, Cafe Food',\n",
       " 'Desserts, Ice Cream, French',\n",
       " 'Middle Eastern, Afghan',\n",
       " 'Italian, Pizza, Seafood',\n",
       " 'Burger, Coffee and Tea, Cafe Food',\n",
       " 'German, Modern Australian',\n",
       " 'Modern Australian, Australian',\n",
       " 'BBQ, Japanese, Tapas',\n",
       " 'Argentine, Steak',\n",
       " 'French, Tapas',\n",
       " 'Latin American, Mexican',\n",
       " 'Malaysian, Thai, Vietnamese',\n",
       " 'Italian, Pizza, Bar Food',\n",
       " 'American, Bar Food',\n",
       " 'Asian, Middle Eastern, Modern Australian',\n",
       " 'Bakery, Patisserie',\n",
       " 'Healthy Food, Vegetarian, Coffee and Tea, Cafe Food',\n",
       " 'Burger, Modern Australian',\n",
       " 'American, Burger, Ice Cream',\n",
       " 'Coffee and Tea, Desserts',\n",
       " 'Seafood, Southern, Cajun',\n",
       " 'American, Pub Food',\n",
       " 'Steak, Seafood',\n",
       " 'Steak, Brazilian, Southern',\n",
       " 'Japanese, Seafood, Sushi',\n",
       " 'American, Diner',\n",
       " 'American, Steak',\n",
       " 'Filipino, International, Southern',\n",
       " 'American, Mexican, Southwestern',\n",
       " 'BBQ, Southern',\n",
       " 'American, Bar Food, Pub Food',\n",
       " 'BBQ, Southwestern',\n",
       " 'Seafood, Southern',\n",
       " 'Mexican, Southwestern',\n",
       " 'American, Sandwich',\n",
       " 'Tapas',\n",
       " 'International, New American',\n",
       " 'Italian, Seafood, Steak',\n",
       " 'American, Vegetarian, Southern',\n",
       " 'Seafood, Bar Food, Southern',\n",
       " 'American, Southern',\n",
       " 'New American',\n",
       " 'Pub Food',\n",
       " 'Burger, Bar Food',\n",
       " 'American, Breakfast',\n",
       " 'American, Mediterranean, Diner',\n",
       " 'Southern',\n",
       " 'American, Southern, BBQ',\n",
       " 'Bakery, Bagels, Donuts',\n",
       " 'Coffee and Tea, Bar Food',\n",
       " 'European, Bar Food',\n",
       " 'Fast Food, Burger, Salad',\n",
       " 'Bakery, Fast Food',\n",
       " 'Spanish, Cuban, Caribbean',\n",
       " 'American, Seafood',\n",
       " 'Burger, Desserts',\n",
       " 'Mexican, Southwestern, Tex-Mex',\n",
       " 'Coffee and Tea, Sandwich, Southern',\n",
       " 'American, Desserts, Burger',\n",
       " 'Diner, Tex-Mex',\n",
       " 'Seafood, Steak',\n",
       " 'Desserts, American',\n",
       " 'Tex-Mex, Southwestern, Mexican',\n",
       " 'American, Tex-Mex',\n",
       " 'Donuts, Bakery, American',\n",
       " 'American, Cafe',\n",
       " 'Cafe, American, Bar Food',\n",
       " 'Tex-Mex, Mexican, Taco',\n",
       " 'Southern, American',\n",
       " 'Tex-Mex, Diner, Mexican',\n",
       " 'Mexican, Seafood',\n",
       " 'Bar Food, American',\n",
       " 'Burger, American',\n",
       " 'Bakery, Cafe, Coffee and Tea',\n",
       " 'BBQ, American',\n",
       " 'New American, Southern',\n",
       " 'Southwestern',\n",
       " 'Desserts, Bakery, American',\n",
       " 'Burger, Southern, American',\n",
       " 'Spanish, Tex-Mex, Cafe',\n",
       " 'Seafood, Cajun',\n",
       " 'Sandwich',\n",
       " 'American, Mexican, Tex-Mex',\n",
       " 'French, Cafe',\n",
       " 'Mexican, Taco',\n",
       " 'Mexican, Tex-Mex',\n",
       " 'Pizza, Sandwich',\n",
       " 'Burger, Southwestern',\n",
       " 'Steak, New American',\n",
       " 'Mexican, American',\n",
       " 'Steak, American',\n",
       " 'American, Burger, Seafood',\n",
       " 'American, Desserts',\n",
       " 'American, Desserts, International',\n",
       " 'New American, Seafood',\n",
       " 'Cafe, American',\n",
       " 'Asian, Japanese, Sushi',\n",
       " 'European, French',\n",
       " 'Chinese, Dim Sum',\n",
       " 'Asian, Malaysian',\n",
       " 'BBQ, Italian, Pizza',\n",
       " 'Irish, Bar Food',\n",
       " 'American, Burger, Desserts',\n",
       " 'Mexican, Southern, Cajun',\n",
       " 'Mediterranean, Middle Eastern, Turkish',\n",
       " 'Sandwich, Vegetarian',\n",
       " 'Desserts, Bakery',\n",
       " 'European, Seafood',\n",
       " 'Italian, Seafood',\n",
       " 'Bakery, Cafe',\n",
       " 'Asian, Ramen',\n",
       " 'Vietnamese, Cafe Food, Salad',\n",
       " 'Contemporary, French',\n",
       " 'Cafe Food, Bar Food',\n",
       " 'Cafe Food, Coffee and Tea',\n",
       " 'Bakery, Coffee and Tea',\n",
       " 'Japanese, Cafe Food',\n",
       " 'Italian, Salad',\n",
       " 'Korean BBQ',\n",
       " 'Steak, Modern Australian',\n",
       " 'Cafe Food, Modern Australian',\n",
       " 'German, Pub Food',\n",
       " 'Healthy Food, Asian',\n",
       " 'Middle Eastern, Turkish',\n",
       " 'Middle Eastern',\n",
       " 'Japanese, Dumplings',\n",
       " 'American, BBQ, Salad',\n",
       " 'Cafe Food, French',\n",
       " 'Cafe Food',\n",
       " 'Cafe Food, Modern Australian, Coffee and Tea',\n",
       " 'Middle Eastern, Cafe Food, Salad',\n",
       " 'Seafood, Modern Australian',\n",
       " 'Asian, Japanese, Tapas',\n",
       " 'Italian, Korean, Fusion',\n",
       " 'Desserts, Modern Australian',\n",
       " 'Cafe Food, Burger, Tapas',\n",
       " 'Modern Australian, Cafe Food',\n",
       " 'Fusion, Coffee and Tea, Desserts, Cafe Food',\n",
       " 'Greek, Mediterranean, Salad',\n",
       " 'Mediterranean, Greek, Salad',\n",
       " 'Vietnamese, Chinese, Malaysian, Salad',\n",
       " 'Chinese, Vietnamese, Salad',\n",
       " 'Cafe Food, Modern European',\n",
       " 'Vegetarian, Desserts',\n",
       " 'Canadian',\n",
       " 'Korean, Tapas, Fusion',\n",
       " 'Desserts, Italian, Pizza',\n",
       " 'Seafood, Tapas, Fusion',\n",
       " 'Fast Food',\n",
       " 'Asian, Indian',\n",
       " 'Mediterranean, Middle Eastern',\n",
       " 'Desserts, French',\n",
       " 'Mexican, Fusion',\n",
       " 'German, Bar Food',\n",
       " 'Italian, Deli',\n",
       " 'BBQ, Korean',\n",
       " 'Breakfast, Sandwich',\n",
       " 'Breakfast, Burger',\n",
       " 'Asian, Beverages, Bubble Tea',\n",
       " 'Japanese, Sushi, Tapas, Ramen',\n",
       " 'Japanese, Sushi, Ramen',\n",
       " 'Asian, Chinese, Cafe',\n",
       " 'Desserts, Ice Cream',\n",
       " 'Breakfast, Italian, Fusion',\n",
       " 'Japanese, Sushi, Tapas',\n",
       " 'Brazilian, Latin American',\n",
       " 'Breakfast, Coffee and Tea',\n",
       " 'Burger, Pizza',\n",
       " 'Mediterranean, Deli, Kebab',\n",
       " 'Chinese, Malaysian',\n",
       " 'Steak, Fusion',\n",
       " 'Diner',\n",
       " 'Sushi, Ramen',\n",
       " 'European, French, Tapas',\n",
       " 'Japanese, Steak, Teriyaki',\n",
       " 'American, Sandwich, Burger',\n",
       " 'Asian, Sushi',\n",
       " 'Bakery, Desserts',\n",
       " 'American, Southern, Bar Food',\n",
       " 'Pizza, Eastern European',\n",
       " 'Cajun, Southern',\n",
       " 'Southern, Diner',\n",
       " 'Southern, Soul Food, BBQ',\n",
       " 'Tapas, Pub Food, American',\n",
       " 'Thai, Asian',\n",
       " 'American, Seafood, Steak',\n",
       " 'Bakery, Cafe, Desserts',\n",
       " 'Mexican, Southwestern, Caribbean',\n",
       " 'French, American, Pub Food',\n",
       " 'German, International',\n",
       " 'Tapas, Sushi, Bar Food',\n",
       " 'Greek, Italian',\n",
       " 'American, Fast Food, Southern',\n",
       " 'French, Bakery',\n",
       " 'BBQ, Burger',\n",
       " 'Burger, Sushi, Fusion',\n",
       " 'Seafood, Southern, New American',\n",
       " 'Diner, Desserts, American',\n",
       " 'Greek, Mediterranean',\n",
       " 'Italian, Pizza, Sandwich',\n",
       " 'Pizza, Italian, Sandwich',\n",
       " 'American, German',\n",
       " 'American, Southwestern, BBQ',\n",
       " 'Mediterranean, Tapas',\n",
       " 'American, Pizza, Burger, Sandwich',\n",
       " 'American, Italian, Burger, Sandwich',\n",
       " 'Seafood, Sushi',\n",
       " 'Peruvian, Japanese, Fusion',\n",
       " 'Italian, Steak, American',\n",
       " 'Pizza, American',\n",
       " 'Japanese, Steak, Sushi',\n",
       " 'Asian',\n",
       " 'New Mexican',\n",
       " 'Belgian, American',\n",
       " 'Seafood, New American',\n",
       " 'Mediterranean',\n",
       " 'Cuban, Mexican, Latin American',\n",
       " 'New American, Bakery',\n",
       " 'Pizza, Bar Food',\n",
       " 'American, French',\n",
       " 'Tex-Mex',\n",
       " 'Taco, Tex-Mex',\n",
       " 'American, BBQ',\n",
       " 'Diner, Vegetarian',\n",
       " 'Fast Food, Seafood',\n",
       " 'American, Italian, Pizza',\n",
       " 'Steak, Seafood, Sushi',\n",
       " 'American, Bakery',\n",
       " 'New American, Sushi, Seafood, Steak',\n",
       " 'Latin American, Cafe',\n",
       " 'Thai, Vietnamese',\n",
       " 'Italian, Sandwich',\n",
       " 'Taco, New American',\n",
       " 'Cafe, Sandwich',\n",
       " 'Indian, Mediterranean',\n",
       " 'New American, Pub Food',\n",
       " 'Asian, Fusion, New American, Sushi',\n",
       " 'Asian, Chinese',\n",
       " 'American, Coffee and Tea',\n",
       " 'Asian, Fusion',\n",
       " 'Greek, American',\n",
       " 'American, Burger, Mexican',\n",
       " 'Burger, American, Steak',\n",
       " 'American, Burger, Bar Food',\n",
       " 'New American, Desserts',\n",
       " 'Cafe, Cajun',\n",
       " 'American, Tapas',\n",
       " 'American, Asian, European',\n",
       " 'Middle Eastern, Mediterranean',\n",
       " 'Breakfast',\n",
       " 'Cuban, Sandwich, Southwestern',\n",
       " 'American, International, Bar Food',\n",
       " 'Mediterranean, Middle Eastern, Vegetarian',\n",
       " 'American, Vegetarian',\n",
       " 'American, BBQ, Southern',\n",
       " 'Breakfast, Coffee and Tea, Mediterranean',\n",
       " 'Vegetarian',\n",
       " 'American, Breakfast, Southern',\n",
       " 'American, Burger, Fast Food',\n",
       " 'American, BBQ, Southwestern',\n",
       " 'Japanese, Korean, Sushi',\n",
       " 'Burger, Sandwich, Bar Food',\n",
       " 'Desserts, Mediterranean',\n",
       " 'Caribbean, Cuban',\n",
       " 'Seafood, Steak, Cajun',\n",
       " 'Breakfast, Burger, Sandwich',\n",
       " 'American, BBQ, Cajun',\n",
       " 'Breakfast, Diner, Sandwich',\n",
       " 'Polish, Cafe',\n",
       " 'Burger, Diner',\n",
       " 'Burger, Vegetarian, California',\n",
       " 'Middle Eastern, Vegetarian',\n",
       " 'Breakfast, Vegetarian',\n",
       " 'European, Polish',\n",
       " 'Japanese, Sushi, Thai',\n",
       " 'Burger, Vegetarian',\n",
       " 'American, BBQ, Sandwich',\n",
       " 'American, Burger, Steak',\n",
       " 'International, Seafood, Steak',\n",
       " 'Deli',\n",
       " 'American, Breakfast, Vegetarian',\n",
       " 'Greek, Seafood, Cajun',\n",
       " 'Seafood, Healthy Food',\n",
       " 'Burger, Seafood',\n",
       " 'Steak, Cajun',\n",
       " 'Seafood, American',\n",
       " 'Mediterranean, Greek',\n",
       " 'Fusion, International',\n",
       " 'British, Bar Food',\n",
       " 'Italian, Sandwich, Seafood',\n",
       " 'Tapas, Spanish',\n",
       " 'Taco',\n",
       " 'Southern, French',\n",
       " 'American, Indian',\n",
       " 'Asian, Latin American, Sushi',\n",
       " 'Cajun, Seafood',\n",
       " 'Desserts, Diner',\n",
       " 'African',\n",
       " 'European, Mediterranean',\n",
       " nan,\n",
       " 'Asian, Burger',\n",
       " 'Breakfast, French',\n",
       " 'Breakfast, Diner, Bar Food',\n",
       " 'California',\n",
       " 'Italian, Steak',\n",
       " 'European',\n",
       " 'Mexican, Tapas',\n",
       " 'Asian, International',\n",
       " 'Southern, Steak',\n",
       " 'European, Steak',\n",
       " 'French, Seafood',\n",
       " 'Pizza, California',\n",
       " 'Breakfast, International',\n",
       " 'Asian, Thai, Vegetarian',\n",
       " 'Bakery, American, Desserts',\n",
       " 'American, California',\n",
       " 'American, Breakfast, Diner',\n",
       " 'American, European, Steak',\n",
       " 'French, Italian, Spanish',\n",
       " 'Breakfast, Coffee and Tea, Tapas',\n",
       " 'American, Deli',\n",
       " 'Asian, California',\n",
       " 'Breakfast, Sandwich, Deli',\n",
       " 'Italian, California',\n",
       " 'Breakfast, Diner',\n",
       " 'Brazilian, Latin American, Pizza',\n",
       " 'American, Breakfast, Coffee and Tea',\n",
       " 'Italian, Vegetarian',\n",
       " 'Cuban',\n",
       " 'Coffee and Tea, Tea',\n",
       " 'Bar Food, Steak',\n",
       " 'Seafood, Latin American, Mexican',\n",
       " 'Latin American, Burger, Sandwich, Vegetarian, New American',\n",
       " 'American, International, Vegetarian, New American',\n",
       " 'Mediterranean, Greek, Vegetarian',\n",
       " 'Fast Food, Burger',\n",
       " 'Seafood, Bar Food, Sandwich',\n",
       " 'American, Pizza, Sandwich',\n",
       " 'American, New American',\n",
       " 'Seafood, Burger, Southern, Cajun, Creole',\n",
       " 'American, Seafood, Burger',\n",
       " 'Sandwich, Seafood, Floribbean',\n",
       " 'Mexican, Latin American, Floribbean',\n",
       " 'BBQ, Sandwich, Southern',\n",
       " 'Latin American, Cuban',\n",
       " 'Seafood, Thai, Steak',\n",
       " 'American, Asian, Burger',\n",
       " 'Fast Food, Sandwich, Salad',\n",
       " 'American, Latin American, Floribbean',\n",
       " 'Coffee and Tea, Breakfast, Sandwich',\n",
       " 'Cafe, French, Crepes',\n",
       " 'Japanese, Seafood, Brazilian, Peruvian, Sushi',\n",
       " 'Japanese, Seafood, Spanish, Sushi, Tapas, Vegetarian, South American, New American',\n",
       " 'Breakfast, Desserts, Crepes',\n",
       " 'Asian, BBQ, Japanese',\n",
       " 'Japanese, Bar Food, Tapas',\n",
       " 'French, Canadian',\n",
       " 'Seafood, Portuguese',\n",
       " 'Indian, Vegetarian',\n",
       " 'Desserts, Steak, Deli',\n",
       " 'French, British',\n",
       " 'Fast Food, British, Fish and Chips',\n",
       " 'French, Spanish',\n",
       " 'American, French, Italian',\n",
       " 'Greek, Mediterranean, Seafood',\n",
       " 'Healthy Food, Beverages, Vegetarian',\n",
       " 'Others',\n",
       " 'Diner, Canadian',\n",
       " 'BBQ, Portuguese',\n",
       " 'Eastern European, Deli',\n",
       " 'Coffee and Tea, Fast Food',\n",
       " 'Southern, Tex-Mex',\n",
       " 'Bar Food, Canadian',\n",
       " 'International, Seafood',\n",
       " 'Breakfast, Bar Food',\n",
       " 'Asian, Malaysian, Thai',\n",
       " \"Sandwich, Po'Boys\",\n",
       " 'Breakfast, Seafood, Southern',\n",
       " 'Southern, Cajun',\n",
       " 'Seafood, French',\n",
       " 'American, French, International',\n",
       " \"Seafood, Cajun, Po'Boys\",\n",
       " 'Coffee and Tea, Cafe',\n",
       " 'Breakfast, French, Cajun',\n",
       " 'French, Southern, Cajun',\n",
       " 'BBQ, Seafood, Cajun',\n",
       " 'Creole, Cajun',\n",
       " 'Bar Food, Southern',\n",
       " 'American, Seafood, Cajun',\n",
       " 'French, Seafood, Southern',\n",
       " \"Breakfast, Southern, Po'Boys\",\n",
       " 'American, Italian, Southern',\n",
       " 'American, Southern, Cajun',\n",
       " 'Burger, Bar Food, Steak',\n",
       " 'American, Breakfast, Cajun',\n",
       " \"Vegetarian, Cajun, Po'Boys\",\n",
       " 'Caribbean, Sandwich',\n",
       " 'American, French, Southern',\n",
       " 'Breakfast, Cajun',\n",
       " \"Southern, Cajun, Po'Boys\",\n",
       " 'French, Italian, Southern',\n",
       " 'French, Vegetarian',\n",
       " 'Sandwich, Southern',\n",
       " 'BBQ, Southern, Cajun',\n",
       " 'Chinese, Fusion, Asian',\n",
       " 'American, Italian',\n",
       " 'Latin American, Venezuelan',\n",
       " 'Ramen',\n",
       " 'Ukrainian',\n",
       " 'Cuban, Mexican',\n",
       " 'BBQ, American, Southern',\n",
       " 'New American, French',\n",
       " 'Bakery, Desserts, Sandwich',\n",
       " 'European, Belgian',\n",
       " 'American, Burger, Sushi',\n",
       " 'Donuts',\n",
       " 'Seafood, Bagels',\n",
       " 'American, Italian, Sandwich',\n",
       " 'American, Bakery, Desserts',\n",
       " 'Middle Eastern, Moroccan',\n",
       " 'French, Seafood, Bakery',\n",
       " 'Steak, American, German, Burger',\n",
       " 'French, European',\n",
       " 'American, Juices, Beverages',\n",
       " 'Mediterranean, Desserts, Bar Food',\n",
       " 'Italian, Southern',\n",
       " 'Mexican, Vegetarian',\n",
       " 'Burger, Canadian',\n",
       " 'BBQ, Burger, Southern',\n",
       " 'Italian, Canadian',\n",
       " 'Canadian, Southern',\n",
       " 'Italian, Bar Food',\n",
       " 'Sandwich, Bakery',\n",
       " 'Canadian, Fusion',\n",
       " 'Pizza, Canadian',\n",
       " 'Ice Cream, Desserts, Cafe',\n",
       " 'Canadian, European, Asian',\n",
       " 'Bakery, Sandwich',\n",
       " 'Canadian, Tapas',\n",
       " 'Canadian, American',\n",
       " 'French, Seafood, Canadian',\n",
       " 'Seafood, Canadian',\n",
       " 'Canadian, Diner',\n",
       " 'Canadian, International',\n",
       " 'Hawaiian, Japanese',\n",
       " 'Sandwich, Coffee and Tea, Cafe Food',\n",
       " 'Malaysian',\n",
       " 'Australian',\n",
       " 'Mexican, Coffee and Tea, Cafe Food',\n",
       " 'Coffee and Tea, Sandwich, Cafe Food',\n",
       " 'Middle Eastern, Cafe Food',\n",
       " 'Italian, Mediterranean',\n",
       " 'Mediterranean, Bakery',\n",
       " 'Bar Food, Modern Australian',\n",
       " 'Healthy Food, Pizza, Cafe Food',\n",
       " 'Coffee and Tea, Modern Australian, Cafe Food',\n",
       " 'Patisserie, Cafe Food',\n",
       " 'Asian, Bar Food',\n",
       " 'Mediterranean, Middle Eastern, Tapas',\n",
       " 'Yum Cha, Chinese',\n",
       " 'Malaysian, Asian',\n",
       " 'Mexican, Bar Food',\n",
       " 'Desserts, Coffee and Tea',\n",
       " 'Korean, BBQ',\n",
       " 'European, Modern Australian',\n",
       " 'Greek, Tapas, Mediterranean',\n",
       " 'Modern Australian, European',\n",
       " 'Beverages, Cafe Food',\n",
       " 'Desserts, Cafe Food',\n",
       " 'Modern Australian, Cafe Food, Coffee and Tea',\n",
       " 'Chinese, Asian',\n",
       " 'Diner, American',\n",
       " 'New American, Bar Food',\n",
       " 'Ice Cream, Desserts',\n",
       " 'Cuban, Latin American',\n",
       " 'Belgian, European, Bar Food',\n",
       " 'Sandwich, Fast Food',\n",
       " 'Sandwich, American',\n",
       " 'Belgian, Bar Food',\n",
       " 'French, American',\n",
       " 'European, International, Asian',\n",
       " 'British',\n",
       " 'American, Mediterranean',\n",
       " 'Cafe, Pizza',\n",
       " 'Bar Food, Seafood',\n",
       " 'Mediterranean, Italian',\n",
       " 'Cuban, Latin American, Spanish',\n",
       " 'Fast Food, Sandwich',\n",
       " 'Desserts, Juices, Healthy Food',\n",
       " 'American, Steak, Bar Food',\n",
       " 'American, Breakfast, Sandwich',\n",
       " 'Breakfast, Mexican',\n",
       " 'Southwestern, Bar Food',\n",
       " 'American, Sushi',\n",
       " 'Cafe, Sandwich, Sushi',\n",
       " 'Healthy Food, Vegetarian',\n",
       " 'American, Southwestern',\n",
       " 'Caribbean, Chinese, Mexican',\n",
       " 'Bar Food, Sandwich',\n",
       " 'Mediterranean, Sandwich, Vegetarian',\n",
       " 'Pizza, Italian, Healthy Food',\n",
       " 'Caribbean, Seafood',\n",
       " 'Japanese, Italian, Sushi',\n",
       " 'Hawaiian, Asian, New American, American',\n",
       " 'Coffee and Tea, Sandwich',\n",
       " 'Italian, Pizza, Healthy Food',\n",
       " 'New American, Healthy Food',\n",
       " 'European, New American',\n",
       " 'Healthy Food, Diner, Sandwich',\n",
       " 'French, Bakery, Desserts',\n",
       " 'American, Coffee and Tea, Southern',\n",
       " 'BBQ, Breakfast, Southern',\n",
       " 'Taco, Mexican',\n",
       " 'Latin American, Spanish, Tapas',\n",
       " 'Cajun, Soul Food',\n",
       " 'Greek, Mediterranean, Middle Eastern',\n",
       " 'European, Italian, Pizza',\n",
       " 'American, Pacific Northwest',\n",
       " 'Asian, Chinese, Japanese',\n",
       " 'Breakfast, Vegetarian, Donuts',\n",
       " 'Pacific Northwest',\n",
       " 'Seafood, Pacific Northwest',\n",
       " 'Asian, Seafood, Steak',\n",
       " 'Pacific Northwest, Steak',\n",
       " 'BBQ, Burger, Bar Food',\n",
       " 'Lebanese, Middle Eastern, Vegetarian',\n",
       " 'American, Breakfast, Desserts',\n",
       " 'American, Breakfast, Pacific Northwest',\n",
       " 'Latin American, Tapas, Peruvian',\n",
       " 'Mexican, Latin American',\n",
       " 'Latin American, Mexican, Tapas',\n",
       " 'Caribbean, Hawaiian',\n",
       " 'Italian, Mediterranean, Seafood',\n",
       " 'Seafood, Steak, American',\n",
       " 'Steak, Seafood, American',\n",
       " 'Tea, Cafe',\n",
       " 'Sushi, Asian, American',\n",
       " 'Bakery, American',\n",
       " 'Moroccan',\n",
       " 'Chinese, Sushi',\n",
       " 'Southwestern, Steak',\n",
       " 'German, Sandwich, Deli',\n",
       " 'American, Mediterranean, International',\n",
       " 'French, Belgian',\n",
       " 'American, Latin American, California',\n",
       " 'Asian, Chinese, Vegetarian',\n",
       " 'Vegetarian, California',\n",
       " 'Middle Eastern, American',\n",
       " 'Breakfast, European, French',\n",
       " 'California, Seafood',\n",
       " 'American, Breakfast, California',\n",
       " 'California, New American',\n",
       " 'International, Healthy Food',\n",
       " 'American, Mexican',\n",
       " 'Bar Food, Seafood, California',\n",
       " 'Diner, California',\n",
       " 'Cafe, Mexican',\n",
       " 'American, Vegetarian, Healthy Food',\n",
       " 'Mexican, Seafood, Vegetarian',\n",
       " 'Seafood, Chinese',\n",
       " 'Italian, French, California',\n",
       " 'Hawaiian, Fusion',\n",
       " 'Vietnamese, Fusion',\n",
       " 'Seafood, Italian',\n",
       " 'Burger, Pizza, American',\n",
       " 'American, Seafood, Bakery',\n",
       " 'Ice Cream, Coffee and Tea',\n",
       " 'Cuban, Tapas, Caribbean',\n",
       " 'Burmese',\n",
       " 'Seafood, International',\n",
       " 'Spanish, American, Tapas',\n",
       " 'Dim Sum, Chinese',\n",
       " 'Crepes, Cafe',\n",
       " 'California, Fusion',\n",
       " 'Pacific Northwest, Seafood, Tapas',\n",
       " 'Caribbean, Latin American, Cajun',\n",
       " 'Pacific Northwest, Seafood',\n",
       " 'Cafe, French',\n",
       " 'Pub Food, American',\n",
       " 'Burger, Diner, American',\n",
       " 'Sushi, Japanese, Latin American',\n",
       " 'Sandwich, Deli, Italian',\n",
       " 'International, Desserts',\n",
       " 'Fish and Chips, Pacific Northwest, Seafood',\n",
       " 'Pacific Northwest, American',\n",
       " 'Donuts, Coffee and Tea',\n",
       " 'Vietnamese, Chinese, Asian',\n",
       " 'Caribbean, Sandwich, Cuban',\n",
       " 'Korean, Fusion',\n",
       " 'Greek, Mediterranean, Pacific Northwest',\n",
       " 'Vegetarian, Breakfast',\n",
       " 'Cafe, French, Bakery',\n",
       " 'Russian, Bakery',\n",
       " 'Sandwich, Cafe',\n",
       " 'Fish and Chips, Seafood, Pacific Northwest',\n",
       " 'Cajun, French',\n",
       " 'Burger, Sandwich, Beverages',\n",
       " 'Vegetarian, Mediterranean, Indian',\n",
       " 'Pacific Northwest, New American',\n",
       " 'Bakery, French, Desserts',\n",
       " 'Bakery, Ice Cream, Desserts',\n",
       " 'Singaporean, Chinese, Asian',\n",
       " 'Continental, Spanish',\n",
       " 'South Indian, Singaporean, Middle Eastern, Indian',\n",
       " 'American, Asian, Continental, Fusion',\n",
       " 'Chinese, Continental, Singaporean',\n",
       " 'French, Continental',\n",
       " 'North Indian, Indian, South Indian, American',\n",
       " 'Asian, French, Fusion',\n",
       " 'Continental, European, Steak',\n",
       " 'European, Middle Eastern',\n",
       " 'French, Mediterranean, European',\n",
       " 'Continental, Bar Food',\n",
       " 'Continental, French',\n",
       " 'Chinese, French, Japanese',\n",
       " 'Singaporean, Chinese',\n",
       " 'Mediterranean, Asian, Japanese, Sushi, Seafood, French',\n",
       " 'European, Spanish, American, Cafe',\n",
       " 'European, Seafood, Australian, Steak',\n",
       " 'Cafe, French, Bakery, Italian',\n",
       " 'American, Japanese, Singaporean',\n",
       " 'South Indian, North Indian',\n",
       " 'Asian, Continental, Seafood, Bakery',\n",
       " 'Chinese, Thai, Japanese, Italian',\n",
       " 'Singaporean, Chinese, Seafood, Malay, Indian',\n",
       " 'Chinese, Seafood, Cantonese, Dim Sum',\n",
       " 'Singaporean, European, Seafood, Indian, Japanese, Continental',\n",
       " 'Asian, Japanese, Seafood, Singaporean, Chinese',\n",
       " 'Singaporean, Chinese, Dim Sum, Healthy Food, Seafood, Cantonese',\n",
       " 'American, Continental, Italian, Pizza, Steak',\n",
       " 'Singaporean, Australian, German',\n",
       " 'American, Cafe, Italian',\n",
       " 'Cafe, Fusion, Western',\n",
       " 'Japanese, Continental, Sushi, Fusion',\n",
       " 'Cafe, Bakery, Desserts',\n",
       " 'Italian, Australian, Healthy Food, Fusion',\n",
       " 'Indian, North Indian, South Indian',\n",
       " 'Continental, Indian, Asian',\n",
       " 'Salad, Healthy Food, Western, Cafe',\n",
       " 'American, Bakery, European, Burger, Fusion',\n",
       " 'American, European, Singaporean',\n",
       " 'Singaporean, Chinese, Seafood',\n",
       " 'Italian, European',\n",
       " 'American, European, Australian, Steak',\n",
       " 'Finger Food',\n",
       " 'Continental, European',\n",
       " 'American, Continental, French, Seafood',\n",
       " 'Finger Food, Burger, Fast Food',\n",
       " 'Singaporean, Seafood, BBQ',\n",
       " 'Middle Eastern, Sandwich, Vegetarian',\n",
       " 'European, Bar Food, Belgian',\n",
       " 'American, Pizza',\n",
       " 'European, Tapas, Eastern European',\n",
       " 'American, Burger, Pizza',\n",
       " 'African, Portuguese',\n",
       " 'Greek, Mediterranean, Turkish',\n",
       " 'Asian, Dim Sum',\n",
       " 'European, French, Seafood',\n",
       " 'American, Breakfast, Seafood',\n",
       " 'American, Seafood, Bar Food',\n",
       " 'American, Southern, Jamaican',\n",
       " 'Italian, Mediterranean, Pizza',\n",
       " 'Mexican, Spanish, Tex-Mex',\n",
       " 'American, Seafood, Sushi',\n",
       " 'American, Desserts, Bar Food',\n",
       " 'Desserts, Bar Food',\n",
       " 'Coffee and Tea',\n",
       " 'American, Breakfast, Bar Food',\n",
       " 'American, Mediterranean, Vegetarian',\n",
       " 'American, Bar Food, Seafood',\n",
       " 'Cafe, European, American, Salad, Healthy Food, Continental',\n",
       " 'Mandi, Emirati, Arabian, Middle Eastern',\n",
       " 'Turkish, Arabian, Middle Eastern',\n",
       " 'Indian, Mughlai',\n",
       " 'Japanese, Sushi, Salad',\n",
       " 'Sushi, Japanese, Asian',\n",
       " 'Lebanese, Arabian, Middle Eastern, Salad',\n",
       " 'Pizza, Fast Food',\n",
       " 'South Indian, North Indian, Chinese, Seafood',\n",
       " 'Indian, North Indian, Mughlai, Biryani, Chinese, Seafood',\n",
       " 'Indian, Mughlai, Chinese',\n",
       " 'Indian, Pakistani',\n",
       " 'Indian, Biryani, Hyderabadi',\n",
       " 'Indian, North Indian',\n",
       " 'Cafe, Healthy Food, Burger, Salad',\n",
       " 'Healthy Food, Salad, International',\n",
       " 'Indian, North Indian, South Indian, Chinese',\n",
       " 'Burger, Fast Food, Portuguese, African',\n",
       " 'Indian, North Indian, Mughlai, Biryani',\n",
       " 'Indian, BBQ',\n",
       " 'Lebanese',\n",
       " 'Thai, Asian, Chinese',\n",
       " 'American, Mexican, Seafood',\n",
       " 'Indian, North Indian, Mughlai, Biryani, Kebab',\n",
       " 'Indian, North Indian, Chinese, Healthy Food',\n",
       " 'Indian, South Indian',\n",
       " 'Chinese, Indian, North Indian, Kerala, Mughlai, South Indian',\n",
       " 'Kerala',\n",
       " 'North Indian, Mughlai, Biryani, Indian',\n",
       " 'Pakistani, Indian, Hyderabadi, Afghan',\n",
       " 'Indian, Kerala, Biryani',\n",
       " 'Indian, North Indian, South Indian, Street Food, Desserts',\n",
       " 'Thai, Asian, Chinese, Indian, Japanese, Sushi',\n",
       " 'Lebanese, Arabian, Middle Eastern',\n",
       " 'American, Mexican, Tex-Mex, Steak, Salad',\n",
       " 'Indian, Chinese',\n",
       " 'Lebanese, Salad',\n",
       " 'Indian, North Indian, Chinese',\n",
       " 'Portuguese, African',\n",
       " 'Healthy Food, American',\n",
       " 'Indian, Biryani',\n",
       " 'Indian, Street Food, Chinese, North Indian, Fast Food, Burger, Beverages, Sandwich',\n",
       " 'Chinese, Seafood',\n",
       " 'Indian, South Indian, Chinese',\n",
       " 'Italian, Pizza, Salad',\n",
       " 'American, Desserts, Salad',\n",
       " 'Indian, Biryani, Mughlai',\n",
       " 'Indian, BBQ, Continental',\n",
       " 'Indian, North Indian, Rajasthani',\n",
       " 'Indian, Gujarati, Rajasthani',\n",
       " 'Indian, Chinese, Grill, Kebab',\n",
       " 'Indian, North Indian, Street Food, Fast Food',\n",
       " 'Chinese, Asian, Street Food',\n",
       " 'Cafe, Indian, Street Food',\n",
       " 'Indian, North Indian, Chinese, Street Food',\n",
       " 'Indian, Street Food',\n",
       " 'Indian, North Indian, Kebab',\n",
       " 'Indian, Mughlai, North Indian, Kebab',\n",
       " 'Indian, Biryani, Kebab, North Indian',\n",
       " 'Indian, Fast Food, Street Food, Chinese',\n",
       " 'Indian, North Indian, Healthy Food',\n",
       " 'Biryani, North Indian, Pakistani, Mughlai, Afghan, Indian, Kebab',\n",
       " 'Kerala, South Indian, Indian',\n",
       " 'Arabian, Middle Eastern, Salad, Kebab',\n",
       " 'Biryani, Hyderabadi, North Indian',\n",
       " 'North Indian, Lebanese, Chinese, Kebab',\n",
       " 'Indian, Chinese, Kebab',\n",
       " 'Cafe, Arabian, Middle Eastern, Lebanese',\n",
       " 'Indian, BBQ, Kebab',\n",
       " 'Indian, Contemporary',\n",
       " 'Steak, Continental, North Indian',\n",
       " 'Asian, Thai, Seafood, Chinese',\n",
       " 'Chinese, Japanese, Asian',\n",
       " 'Mexican, Peruvian, Latin American',\n",
       " 'Contemporary, Indian',\n",
       " 'Indian, North Indian, Contemporary',\n",
       " 'Healthy Food, Poké',\n",
       " 'Mediterranean, Pizza, Middle Eastern',\n",
       " 'Belgian, Finger Food, European',\n",
       " 'Indian, International',\n",
       " 'Biryani, North Indian, Mughlai, Indian',\n",
       " 'Indian, Arabian, Middle Eastern, Italian, Pizza',\n",
       " 'Street Food, Arabian, Middle Eastern, Salad',\n",
       " 'British, Asian, Arabian, Middle Eastern',\n",
       " 'Lebanese, Turkish',\n",
       " 'North Indian, Street Food, Chinese, Desserts, Ice Cream',\n",
       " 'Nepalese, Japanese, Fast Food, Sushi',\n",
       " 'Kerala, South Indian',\n",
       " 'Sushi, American, Seafood',\n",
       " 'Arabian, Middle Eastern, Salad',\n",
       " 'Japanese, Seafood, Italian, Beverages',\n",
       " 'Asian, Thai, Chinese',\n",
       " 'Lebanese, Arabian, Salad',\n",
       " 'Goan, Chinese, Indian, North Indian',\n",
       " 'Filipino, Japanese, Asian',\n",
       " 'Indian, European',\n",
       " 'Asian, Mediterranean',\n",
       " 'Lebanese, Chinese, South Indian, Mughlai',\n",
       " 'Indian, Fast Food',\n",
       " 'American, Japanese, Mexican',\n",
       " 'Turkish',\n",
       " 'Indian, South Indian, North Indian',\n",
       " 'Cafe, Arabian, Desserts',\n",
       " 'Iranian',\n",
       " 'Pakistani, Afghan',\n",
       " 'Arabian, Middle Eastern, Seafood',\n",
       " 'Malaysian, Thai, Indonesian',\n",
       " 'Arabian, Middle Eastern, Italian, Indian',\n",
       " 'Indian, Chinese, Arabian, Middle Eastern, Bakery',\n",
       " 'Pakistani',\n",
       " 'Irish',\n",
       " 'American, Mexican, Burger',\n",
       " 'Arabian, Middle Eastern, Asian, American, Steak, Indian, Desserts',\n",
       " 'Arabian, Middle Eastern',\n",
       " 'Italian, Arabian, Middle Eastern, Seafood',\n",
       " 'Continental, American, Arabian, Middle Eastern, Italian, Indian, Healthy Food',\n",
       " 'Arabian, Middle Eastern, Mediterranean',\n",
       " 'Arabian, Middle Eastern, Italian, European, Indian',\n",
       " 'Continental',\n",
       " 'Indian, North Indian, Mughlai',\n",
       " 'South Indian',\n",
       " 'Fast Food, Burger, American',\n",
       " 'Pakistani, Indian, Chinese',\n",
       " 'Indian, South Indian, Bengali',\n",
       " 'Indian, Kerala',\n",
       " 'Chinese, Indian, North Indian',\n",
       " 'Indian, Arabian, Middle Eastern',\n",
       " 'Street Food, North Indian, Indian',\n",
       " 'Indian, Mughlai, North Indian, Biryani, Kebab',\n",
       " 'Indian, Chinese, South Indian',\n",
       " 'Mughlai, Indian, Pakistani',\n",
       " 'Fast Food, Juices',\n",
       " 'Mandi, Arabian, Middle Eastern, Yemeni',\n",
       " 'North Indian, Chinese, Hyderabadi',\n",
       " 'Chinese, South Indian, Indian',\n",
       " 'Fast Food, Arabian, Middle Eastern',\n",
       " 'Burger, Fast Food, Street Food',\n",
       " 'Indian, North Indian, South Indian, Fast Food',\n",
       " 'Indian, North Indian, Seafood, Continental',\n",
       " 'Pakistani, Indian',\n",
       " 'Lebanese, Middle Eastern, Arabian',\n",
       " 'Chinese, Indian, Kerala',\n",
       " 'Pakistani, Indian, Mughlai, Desserts',\n",
       " 'Pakistani, Chinese, Indian, Afghan',\n",
       " 'Indian, Pakistani, Fast Food',\n",
       " 'Indian, South Indian, Chinese, Fast Food',\n",
       " 'Indian, South Indian, North Indian, Chinese',\n",
       " 'Fast Food, Pizza',\n",
       " 'Indian, Chinese, Mughlai',\n",
       " 'Chinese, North Indian, Mughlai',\n",
       " 'Chinese, Indian',\n",
       " 'Indian, North Indian, Fast Food',\n",
       " 'Fast Food, Indian, Nepalese, Burger, Pizza, Chinese',\n",
       " 'Indian, Seafood, Pakistani, Grill',\n",
       " 'Fast Food, Lebanese',\n",
       " 'South Indian, Kerala',\n",
       " 'Chinese, Indian, Nepalese',\n",
       " 'Chinese, Thai',\n",
       " 'Indian, North Indian, Street Food',\n",
       " 'Indian, North Indian, Desserts',\n",
       " 'Indian, American, Asian, Fast Food',\n",
       " 'North Indian, Mughlai',\n",
       " 'Street Food',\n",
       " 'North Indian, Mughlai, Rolls, Chinese, Fast Food, Street Food',\n",
       " 'North Indian, Continental, Chinese',\n",
       " 'North Indian, Chinese, Mughlai',\n",
       " 'North Indian',\n",
       " 'North Indian, South Indian, Chinese, Bakery, Momos',\n",
       " 'Bakery, Desserts, Sandwich, Burger, Pizza, Fast Food',\n",
       " 'Desserts, Bakery, Fast Food, South Indian',\n",
       " 'Tea, Fast Food',\n",
       " 'Rajasthani',\n",
       " 'Continental, North Indian, Chinese',\n",
       " 'Burger, Sandwich, Fast Food, Pizza, Rolls, Bakery',\n",
       " 'South Indian, Chinese, Fast Food, Street Food, Mithai, Bakery',\n",
       " 'North Indian, Fast Food, Chinese, South Indian',\n",
       " ...]"
      ]
     },
     "execution_count": 159,
     "metadata": {},
     "output_type": "execute_result"
    }
   ],
   "source": [
    "df1.loc[:, 'cuisines'].unique().tolist()"
   ]
  },
  {
   "cell_type": "markdown",
   "metadata": {},
   "source": [
    "## 1.6. Treat NA"
   ]
  },
  {
   "cell_type": "code",
   "execution_count": 133,
   "metadata": {},
   "outputs": [
    {
     "data": {
      "text/plain": [
       "restaurant_id           0\n",
       "restaurant_name         0\n",
       "country_code            0\n",
       "city                    0\n",
       "address                 0\n",
       "locality                0\n",
       "locality_verbose        0\n",
       "longitude               0\n",
       "latitude                0\n",
       "cuisines                0\n",
       "average_cost_for_two    0\n",
       "currency                0\n",
       "has_table_booking       0\n",
       "has_online_delivery     0\n",
       "is_delivering_now       0\n",
       "switch_to_order_menu    0\n",
       "price_range             0\n",
       "aggregate_rating        0\n",
       "rating_color            0\n",
       "rating_text             0\n",
       "votes                   0\n",
       "dtype: int64"
      ]
     },
     "execution_count": 133,
     "metadata": {},
     "output_type": "execute_result"
    }
   ],
   "source": [
    "df1 = df1.dropna()\n",
    "df1.isna().sum()"
   ]
  },
  {
   "cell_type": "markdown",
   "metadata": {},
   "source": [
    "## 1.7. Change Types"
   ]
  },
  {
   "cell_type": "markdown",
   "metadata": {},
   "source": [
    "Não há a necessidade de fazer a troca de tipos dos dados."
   ]
  },
  {
   "cell_type": "markdown",
   "metadata": {},
   "source": [
    "## 1.8. Descriptive Statistics"
   ]
  },
  {
   "cell_type": "code",
   "execution_count": 20,
   "metadata": {},
   "outputs": [],
   "source": [
    "numerical_data = get_numerical_attributes(df1)"
   ]
  },
  {
   "cell_type": "markdown",
   "metadata": {},
   "source": [
    "### 1.8.1. Numerical Data"
   ]
  },
  {
   "cell_type": "code",
   "execution_count": 21,
   "metadata": {},
   "outputs": [
    {
     "data": {
      "text/html": [
       "<div>\n",
       "<style scoped>\n",
       "    .dataframe tbody tr th:only-of-type {\n",
       "        vertical-align: middle;\n",
       "    }\n",
       "\n",
       "    .dataframe tbody tr th {\n",
       "        vertical-align: top;\n",
       "    }\n",
       "\n",
       "    .dataframe thead th {\n",
       "        text-align: right;\n",
       "    }\n",
       "</style>\n",
       "<table border=\"1\" class=\"dataframe\">\n",
       "  <thead>\n",
       "    <tr style=\"text-align: right;\">\n",
       "      <th></th>\n",
       "      <th>attributes</th>\n",
       "      <th>min</th>\n",
       "      <th>max</th>\n",
       "      <th>range</th>\n",
       "      <th>mean</th>\n",
       "      <th>median</th>\n",
       "      <th>std</th>\n",
       "      <th>skew</th>\n",
       "      <th>kurtosis</th>\n",
       "    </tr>\n",
       "  </thead>\n",
       "  <tbody>\n",
       "    <tr>\n",
       "      <th>0</th>\n",
       "      <td>restaurant_id</td>\n",
       "      <td>549.000000</td>\n",
       "      <td>1.904028e+07</td>\n",
       "      <td>1.903973e+07</td>\n",
       "      <td>1.054327e+07</td>\n",
       "      <td>7.701329e+06</td>\n",
       "      <td>7.075017e+06</td>\n",
       "      <td>-0.084078</td>\n",
       "      <td>-1.726900</td>\n",
       "    </tr>\n",
       "    <tr>\n",
       "      <th>1</th>\n",
       "      <td>country_code</td>\n",
       "      <td>1.000000</td>\n",
       "      <td>2.160000e+02</td>\n",
       "      <td>2.150000e+02</td>\n",
       "      <td>9.313472e+01</td>\n",
       "      <td>3.000000e+01</td>\n",
       "      <td>9.902019e+01</td>\n",
       "      <td>0.257296</td>\n",
       "      <td>-1.849704</td>\n",
       "    </tr>\n",
       "    <tr>\n",
       "      <th>2</th>\n",
       "      <td>longitude</td>\n",
       "      <td>-122.700455</td>\n",
       "      <td>1.753106e+02</td>\n",
       "      <td>2.980110e+02</td>\n",
       "      <td>3.376321e+01</td>\n",
       "      <td>7.378280e+01</td>\n",
       "      <td>7.736959e+01</td>\n",
       "      <td>-0.679659</td>\n",
       "      <td>-0.596239</td>\n",
       "    </tr>\n",
       "    <tr>\n",
       "      <th>3</th>\n",
       "      <td>latitude</td>\n",
       "      <td>-41.330428</td>\n",
       "      <td>5.597698e+01</td>\n",
       "      <td>9.730741e+01</td>\n",
       "      <td>1.931223e+01</td>\n",
       "      <td>2.523716e+01</td>\n",
       "      <td>2.327263e+01</td>\n",
       "      <td>-1.080186</td>\n",
       "      <td>0.608968</td>\n",
       "    </tr>\n",
       "    <tr>\n",
       "      <th>4</th>\n",
       "      <td>average_cost_for_two</td>\n",
       "      <td>0.000000</td>\n",
       "      <td>2.500002e+07</td>\n",
       "      <td>2.500002e+07</td>\n",
       "      <td>7.165669e+03</td>\n",
       "      <td>2.900000e+02</td>\n",
       "      <td>2.908773e+05</td>\n",
       "      <td>84.494674</td>\n",
       "      <td>7257.443719</td>\n",
       "    </tr>\n",
       "    <tr>\n",
       "      <th>5</th>\n",
       "      <td>has_table_booking</td>\n",
       "      <td>0.000000</td>\n",
       "      <td>1.000000e+00</td>\n",
       "      <td>1.000000e+00</td>\n",
       "      <td>6.230032e-02</td>\n",
       "      <td>0.000000e+00</td>\n",
       "      <td>2.417002e-01</td>\n",
       "      <td>3.622563</td>\n",
       "      <td>11.125924</td>\n",
       "    </tr>\n",
       "    <tr>\n",
       "      <th>6</th>\n",
       "      <td>has_online_delivery</td>\n",
       "      <td>0.000000</td>\n",
       "      <td>1.000000e+00</td>\n",
       "      <td>1.000000e+00</td>\n",
       "      <td>3.531683e-01</td>\n",
       "      <td>0.000000e+00</td>\n",
       "      <td>4.779544e-01</td>\n",
       "      <td>0.614540</td>\n",
       "      <td>-1.622773</td>\n",
       "    </tr>\n",
       "    <tr>\n",
       "      <th>7</th>\n",
       "      <td>is_delivering_now</td>\n",
       "      <td>0.000000</td>\n",
       "      <td>1.000000e+00</td>\n",
       "      <td>1.000000e+00</td>\n",
       "      <td>1.746539e-01</td>\n",
       "      <td>0.000000e+00</td>\n",
       "      <td>3.796708e-01</td>\n",
       "      <td>1.714175</td>\n",
       "      <td>0.938646</td>\n",
       "    </tr>\n",
       "    <tr>\n",
       "      <th>8</th>\n",
       "      <td>switch_to_order_menu</td>\n",
       "      <td>0.000000</td>\n",
       "      <td>0.000000e+00</td>\n",
       "      <td>0.000000e+00</td>\n",
       "      <td>0.000000e+00</td>\n",
       "      <td>0.000000e+00</td>\n",
       "      <td>0.000000e+00</td>\n",
       "      <td>0.000000</td>\n",
       "      <td>0.000000</td>\n",
       "    </tr>\n",
       "    <tr>\n",
       "      <th>9</th>\n",
       "      <td>price_range</td>\n",
       "      <td>1.000000</td>\n",
       "      <td>4.000000e+00</td>\n",
       "      <td>3.000000e+00</td>\n",
       "      <td>2.625399e+00</td>\n",
       "      <td>3.000000e+00</td>\n",
       "      <td>9.595017e-01</td>\n",
       "      <td>-0.041458</td>\n",
       "      <td>-0.982738</td>\n",
       "    </tr>\n",
       "    <tr>\n",
       "      <th>10</th>\n",
       "      <td>aggregate_rating</td>\n",
       "      <td>0.000000</td>\n",
       "      <td>4.900000e+00</td>\n",
       "      <td>4.900000e+00</td>\n",
       "      <td>4.122724e+00</td>\n",
       "      <td>4.200000e+00</td>\n",
       "      <td>6.671262e-01</td>\n",
       "      <td>-3.898638</td>\n",
       "      <td>21.116355</td>\n",
       "    </tr>\n",
       "    <tr>\n",
       "      <th>11</th>\n",
       "      <td>votes</td>\n",
       "      <td>0.000000</td>\n",
       "      <td>4.133300e+04</td>\n",
       "      <td>4.133300e+04</td>\n",
       "      <td>6.174834e+02</td>\n",
       "      <td>3.350000e+02</td>\n",
       "      <td>1.128466e+03</td>\n",
       "      <td>10.662986</td>\n",
       "      <td>260.457206</td>\n",
       "    </tr>\n",
       "  </tbody>\n",
       "</table>\n",
       "</div>"
      ],
      "text/plain": [
       "              attributes         min           max         range  \\\n",
       "0          restaurant_id  549.000000  1.904028e+07  1.903973e+07   \n",
       "1           country_code    1.000000  2.160000e+02  2.150000e+02   \n",
       "2              longitude -122.700455  1.753106e+02  2.980110e+02   \n",
       "3               latitude  -41.330428  5.597698e+01  9.730741e+01   \n",
       "4   average_cost_for_two    0.000000  2.500002e+07  2.500002e+07   \n",
       "5      has_table_booking    0.000000  1.000000e+00  1.000000e+00   \n",
       "6    has_online_delivery    0.000000  1.000000e+00  1.000000e+00   \n",
       "7      is_delivering_now    0.000000  1.000000e+00  1.000000e+00   \n",
       "8   switch_to_order_menu    0.000000  0.000000e+00  0.000000e+00   \n",
       "9            price_range    1.000000  4.000000e+00  3.000000e+00   \n",
       "10      aggregate_rating    0.000000  4.900000e+00  4.900000e+00   \n",
       "11                 votes    0.000000  4.133300e+04  4.133300e+04   \n",
       "\n",
       "            mean        median           std       skew     kurtosis  \n",
       "0   1.054327e+07  7.701329e+06  7.075017e+06  -0.084078    -1.726900  \n",
       "1   9.313472e+01  3.000000e+01  9.902019e+01   0.257296    -1.849704  \n",
       "2   3.376321e+01  7.378280e+01  7.736959e+01  -0.679659    -0.596239  \n",
       "3   1.931223e+01  2.523716e+01  2.327263e+01  -1.080186     0.608968  \n",
       "4   7.165669e+03  2.900000e+02  2.908773e+05  84.494674  7257.443719  \n",
       "5   6.230032e-02  0.000000e+00  2.417002e-01   3.622563    11.125924  \n",
       "6   3.531683e-01  0.000000e+00  4.779544e-01   0.614540    -1.622773  \n",
       "7   1.746539e-01  0.000000e+00  3.796708e-01   1.714175     0.938646  \n",
       "8   0.000000e+00  0.000000e+00  0.000000e+00   0.000000     0.000000  \n",
       "9   2.625399e+00  3.000000e+00  9.595017e-01  -0.041458    -0.982738  \n",
       "10  4.122724e+00  4.200000e+00  6.671262e-01  -3.898638    21.116355  \n",
       "11  6.174834e+02  3.350000e+02  1.128466e+03  10.662986   260.457206  "
      ]
     },
     "execution_count": 21,
     "metadata": {},
     "output_type": "execute_result"
    }
   ],
   "source": [
    "get_first_order_statistics(numerical_data)"
   ]
  },
  {
   "cell_type": "markdown",
   "metadata": {},
   "source": [
    "# 2. Answers"
   ]
  },
  {
   "cell_type": "code",
   "execution_count": 22,
   "metadata": {},
   "outputs": [
    {
     "data": {
      "text/html": [
       "<div>\n",
       "<style scoped>\n",
       "    .dataframe tbody tr th:only-of-type {\n",
       "        vertical-align: middle;\n",
       "    }\n",
       "\n",
       "    .dataframe tbody tr th {\n",
       "        vertical-align: top;\n",
       "    }\n",
       "\n",
       "    .dataframe thead th {\n",
       "        text-align: right;\n",
       "    }\n",
       "</style>\n",
       "<table border=\"1\" class=\"dataframe\">\n",
       "  <thead>\n",
       "    <tr style=\"text-align: right;\">\n",
       "      <th></th>\n",
       "      <th>restaurant_id</th>\n",
       "      <th>restaurant_name</th>\n",
       "      <th>country</th>\n",
       "      <th>city</th>\n",
       "      <th>address</th>\n",
       "      <th>locality</th>\n",
       "      <th>locality_verbose</th>\n",
       "      <th>longitude</th>\n",
       "      <th>latitude</th>\n",
       "      <th>cuisines</th>\n",
       "      <th>price_type</th>\n",
       "      <th>average_cost_for_two</th>\n",
       "      <th>currency</th>\n",
       "      <th>has_table_booking</th>\n",
       "      <th>has_online_delivery</th>\n",
       "      <th>is_delivering_now</th>\n",
       "      <th>aggregate_rating</th>\n",
       "      <th>rating_color</th>\n",
       "      <th>color_name</th>\n",
       "      <th>rating_text</th>\n",
       "      <th>votes</th>\n",
       "    </tr>\n",
       "  </thead>\n",
       "  <tbody>\n",
       "    <tr>\n",
       "      <th>0</th>\n",
       "      <td>6310675</td>\n",
       "      <td>Mama Lou's Italian Kitchen</td>\n",
       "      <td>Philippines</td>\n",
       "      <td>Las Piñas City</td>\n",
       "      <td>Block 1, Lot 36, Tropical Avenue Corner Tropic...</td>\n",
       "      <td>BF International</td>\n",
       "      <td>BF International, Las Piñas City</td>\n",
       "      <td>121.009787</td>\n",
       "      <td>14.447615</td>\n",
       "      <td>Italian</td>\n",
       "      <td>expensive</td>\n",
       "      <td>1100</td>\n",
       "      <td>Botswana Pula(P)</td>\n",
       "      <td>1</td>\n",
       "      <td>0</td>\n",
       "      <td>0</td>\n",
       "      <td>4.6</td>\n",
       "      <td>3F7E00</td>\n",
       "      <td>darkgreen</td>\n",
       "      <td>Excellent</td>\n",
       "      <td>619</td>\n",
       "    </tr>\n",
       "  </tbody>\n",
       "</table>\n",
       "</div>"
      ],
      "text/plain": [
       "   restaurant_id             restaurant_name      country            city  \\\n",
       "0        6310675  Mama Lou's Italian Kitchen  Philippines  Las Piñas City   \n",
       "\n",
       "                                             address          locality  \\\n",
       "0  Block 1, Lot 36, Tropical Avenue Corner Tropic...  BF International   \n",
       "\n",
       "                   locality_verbose   longitude   latitude cuisines  \\\n",
       "0  BF International, Las Piñas City  121.009787  14.447615  Italian   \n",
       "\n",
       "  price_type  average_cost_for_two          currency  has_table_booking  \\\n",
       "0  expensive                  1100  Botswana Pula(P)                  1   \n",
       "\n",
       "   has_online_delivery  is_delivering_now  aggregate_rating rating_color  \\\n",
       "0                    0                  0               4.6       3F7E00   \n",
       "\n",
       "  color_name rating_text  votes  \n",
       "0  darkgreen   Excellent    619  "
      ]
     },
     "execution_count": 22,
     "metadata": {},
     "output_type": "execute_result"
    }
   ],
   "source": [
    "df2 = process_data(RAW_DATA_PATH)\n",
    "df2.head(1)"
   ]
  },
  {
   "cell_type": "markdown",
   "metadata": {},
   "source": [
    "## Geral"
   ]
  },
  {
   "cell_type": "markdown",
   "metadata": {},
   "source": [
    "### 1. Quantos restaurantes únicos estão registrados?"
   ]
  },
  {
   "cell_type": "code",
   "execution_count": 23,
   "metadata": {},
   "outputs": [
    {
     "data": {
      "text/plain": [
       "6929"
      ]
     },
     "execution_count": 23,
     "metadata": {},
     "output_type": "execute_result"
    }
   ],
   "source": [
    "# 1. Quantos restaurantes únicos estão registrados?\n",
    "df2.shape[0]"
   ]
  },
  {
   "cell_type": "markdown",
   "metadata": {},
   "source": [
    "### 2. Quantos paises únicos estão registrados?"
   ]
  },
  {
   "cell_type": "code",
   "execution_count": 24,
   "metadata": {},
   "outputs": [
    {
     "data": {
      "text/plain": [
       "15"
      ]
     },
     "execution_count": 24,
     "metadata": {},
     "output_type": "execute_result"
    }
   ],
   "source": [
    "# 2. Quantos paises únicos estão registrados?\n",
    "df2.loc[:, 'country'].nunique()"
   ]
  },
  {
   "cell_type": "markdown",
   "metadata": {},
   "source": [
    "### 3. Quantas cidades únicas estão registradas?"
   ]
  },
  {
   "cell_type": "code",
   "execution_count": 25,
   "metadata": {},
   "outputs": [
    {
     "data": {
      "text/plain": [
       "125"
      ]
     },
     "execution_count": 25,
     "metadata": {},
     "output_type": "execute_result"
    }
   ],
   "source": [
    "# 3. Quantas cidades únicas estão registradas?\n",
    "df2.loc[:, 'city'].nunique()"
   ]
  },
  {
   "cell_type": "markdown",
   "metadata": {},
   "source": [
    "### 4. Qual o total de avaliações feitas?"
   ]
  },
  {
   "cell_type": "code",
   "execution_count": 26,
   "metadata": {},
   "outputs": [
    {
     "data": {
      "text/plain": [
       "4194533"
      ]
     },
     "execution_count": 26,
     "metadata": {},
     "output_type": "execute_result"
    }
   ],
   "source": [
    "# 4. Qual o total de avaliações feitas?\n",
    "df2.loc[:, 'votes'].sum()"
   ]
  },
  {
   "cell_type": "markdown",
   "metadata": {},
   "source": [
    "### 5. Qual o total de tipos de culinária registrados?"
   ]
  },
  {
   "cell_type": "code",
   "execution_count": 27,
   "metadata": {},
   "outputs": [
    {
     "data": {
      "text/plain": [
       "165"
      ]
     },
     "execution_count": 27,
     "metadata": {},
     "output_type": "execute_result"
    }
   ],
   "source": [
    "# 5. Qual o total de tipos de culinária registrados?\n",
    "df2.loc[:, 'cuisines'].nunique()"
   ]
  },
  {
   "cell_type": "markdown",
   "metadata": {},
   "source": [
    "## Pais"
   ]
  },
  {
   "cell_type": "markdown",
   "metadata": {},
   "source": [
    "### 1. Qual o nome do país que possui mais cidades registradas?"
   ]
  },
  {
   "cell_type": "code",
   "execution_count": 28,
   "metadata": {},
   "outputs": [
    {
     "data": {
      "text/plain": [
       "'India'"
      ]
     },
     "execution_count": 28,
     "metadata": {},
     "output_type": "execute_result"
    }
   ],
   "source": [
    "(df2.loc[:, ['city', 'country'] ].groupby('country')\n",
    "                                         .nunique()\n",
    "                                         .sort_values('city', ascending=False)\n",
    "                                         .reset_index()).iloc[0, 0]"
   ]
  },
  {
   "cell_type": "markdown",
   "metadata": {},
   "source": [
    "### 2. Qual o nome do país que possui mais restaurantes registrados?"
   ]
  },
  {
   "cell_type": "code",
   "execution_count": 29,
   "metadata": {},
   "outputs": [
    {
     "data": {
      "text/plain": [
       "'India'"
      ]
     },
     "execution_count": 29,
     "metadata": {},
     "output_type": "execute_result"
    }
   ],
   "source": [
    "(df2.loc[:, ['restaurant_id', 'country'] ].groupby('country')\n",
    "                                         .count()\n",
    "                                         .sort_values('restaurant_id', ascending=False)\n",
    "                                         .reset_index()).iloc[0,0]"
   ]
  },
  {
   "cell_type": "markdown",
   "metadata": {},
   "source": [
    "### 3. Qual o nome do país que possui mais restaurantes com os nível de preço igual a 4 registrados?"
   ]
  },
  {
   "cell_type": "code",
   "execution_count": 30,
   "metadata": {},
   "outputs": [
    {
     "data": {
      "text/plain": [
       "'India'"
      ]
     },
     "execution_count": 30,
     "metadata": {},
     "output_type": "execute_result"
    }
   ],
   "source": [
    "(df2.loc[df2['aggregate_rating'] >= 4, ['restaurant_id', 'country'] ]\n",
    "                                         .groupby('country')\n",
    "                                         .count()\n",
    "                                         .sort_values('restaurant_id', ascending=False)\n",
    "                                         .reset_index()).iloc[0, 0]"
   ]
  },
  {
   "cell_type": "markdown",
   "metadata": {},
   "source": [
    "### 4. Qual o nome da país que possui a maior quantidade de tipos de culinária distintos?"
   ]
  },
  {
   "cell_type": "code",
   "execution_count": 31,
   "metadata": {},
   "outputs": [
    {
     "data": {
      "text/plain": [
       "'India'"
      ]
     },
     "execution_count": 31,
     "metadata": {},
     "output_type": "execute_result"
    }
   ],
   "source": [
    "(df2.loc[:, ['cuisines', 'country'] ]\n",
    "                                         .groupby('country')\n",
    "                                         .nunique()\n",
    "                                         .sort_values('cuisines', ascending=False)\n",
    "                                         .reset_index()).iloc[0, 0]"
   ]
  },
  {
   "cell_type": "markdown",
   "metadata": {},
   "source": [
    "### 5. Qual o nome do país que possui a maior quantidade de avaliações feitas?"
   ]
  },
  {
   "cell_type": "code",
   "execution_count": 32,
   "metadata": {},
   "outputs": [
    {
     "data": {
      "text/plain": [
       "'India'"
      ]
     },
     "execution_count": 32,
     "metadata": {},
     "output_type": "execute_result"
    }
   ],
   "source": [
    "(df2.loc[:, ['votes', 'country'] ]\n",
    "                                         .groupby('country')\n",
    "                                         .sum()\n",
    "                                         .sort_values('votes', ascending=False)\n",
    "                                         .reset_index()).iloc[0, 0]"
   ]
  },
  {
   "cell_type": "markdown",
   "metadata": {},
   "source": [
    "### 6. Qual o nome do país que possui a maior quantidade de restaurantes que fazem entrega?"
   ]
  },
  {
   "cell_type": "code",
   "execution_count": 33,
   "metadata": {},
   "outputs": [
    {
     "data": {
      "text/plain": [
       "'India'"
      ]
     },
     "execution_count": 33,
     "metadata": {},
     "output_type": "execute_result"
    }
   ],
   "source": [
    "(df2.loc[df2['is_delivering_now'] == 1, ['restaurant_id', 'country'] ]\n",
    "                                         .groupby('country')\n",
    "                                         .count()\n",
    "                                         .sort_values('restaurant_id', ascending=False)\n",
    "                                         .reset_index()).iloc[0, 0]"
   ]
  },
  {
   "cell_type": "markdown",
   "metadata": {},
   "source": [
    "### 7. Qual o nome do país que possui a maior quantidade de restaurantes que aceitam reservas?"
   ]
  },
  {
   "cell_type": "code",
   "execution_count": 34,
   "metadata": {},
   "outputs": [
    {
     "data": {
      "text/plain": [
       "'India'"
      ]
     },
     "execution_count": 34,
     "metadata": {},
     "output_type": "execute_result"
    }
   ],
   "source": [
    "(df2.loc[df2['has_table_booking'] == 1, ['restaurant_id', 'country'] ]\n",
    "                                         .groupby('country')\n",
    "                                         .count()\n",
    "                                         .sort_values('restaurant_id', ascending=False)\n",
    "                                         .reset_index()).iloc[0, 0]"
   ]
  },
  {
   "cell_type": "markdown",
   "metadata": {},
   "source": [
    "### 8. Qual o nome do país que possui, na média, a maior quantidade de avaliações registrada?"
   ]
  },
  {
   "cell_type": "code",
   "execution_count": 71,
   "metadata": {},
   "outputs": [
    {
     "data": {
      "text/plain": [
       "'Indonesia'"
      ]
     },
     "execution_count": 71,
     "metadata": {},
     "output_type": "execute_result"
    }
   ],
   "source": [
    "(df2.loc[:, ['votes', 'country'] ]\n",
    "                                .groupby('country')\n",
    "                                .mean()\n",
    "                                .sort_values('votes', ascending=False)\n",
    "                                .reset_index()).iloc[0, 0]"
   ]
  },
  {
   "cell_type": "markdown",
   "metadata": {},
   "source": [
    "### 9. Qual o nome do país que possui, na média, a maior nota média registrada?"
   ]
  },
  {
   "cell_type": "code",
   "execution_count": 36,
   "metadata": {},
   "outputs": [
    {
     "data": {
      "text/plain": [
       "'Indonesia'"
      ]
     },
     "execution_count": 36,
     "metadata": {},
     "output_type": "execute_result"
    }
   ],
   "source": [
    "(df2.loc[:, ['aggregate_rating', 'country'] ]\n",
    "                                         .groupby('country')\n",
    "                                         .mean()\n",
    "                                         .sort_values('aggregate_rating', ascending=False)\n",
    "                                         .reset_index()).iloc[0, 0]"
   ]
  },
  {
   "cell_type": "markdown",
   "metadata": {},
   "source": [
    "### 10. Qual o nome do país que possui, na média, a menor nota média registrada?"
   ]
  },
  {
   "cell_type": "code",
   "execution_count": 37,
   "metadata": {},
   "outputs": [
    {
     "data": {
      "text/plain": [
       "'Brazil'"
      ]
     },
     "execution_count": 37,
     "metadata": {},
     "output_type": "execute_result"
    }
   ],
   "source": [
    "(df2.loc[:, ['aggregate_rating', 'country'] ]\n",
    "                                         .groupby('country')\n",
    "                                         .mean()\n",
    "                                         .sort_values('aggregate_rating', ascending=True)\n",
    "                                         .reset_index()).iloc[0, 0]"
   ]
  },
  {
   "cell_type": "markdown",
   "metadata": {},
   "source": [
    "### 11. Qual a média de preço de um prato para dois por país?"
   ]
  },
  {
   "cell_type": "code",
   "execution_count": 38,
   "metadata": {},
   "outputs": [
    {
     "data": {
      "text/plain": [
       "'Indonesia'"
      ]
     },
     "execution_count": 38,
     "metadata": {},
     "output_type": "execute_result"
    }
   ],
   "source": [
    "(df2.loc[:, ['average_cost_for_two', 'country'] ]\n",
    "                                         .groupby('country')\n",
    "                                         .mean()\n",
    "                                         .sort_values('average_cost_for_two', ascending=False)\n",
    "                                         .reset_index()).iloc[0, 0]"
   ]
  },
  {
   "cell_type": "markdown",
   "metadata": {},
   "source": [
    "## Cidades"
   ]
  },
  {
   "cell_type": "markdown",
   "metadata": {},
   "source": [
    "### 1. Qual o nome da cidade que possui mais restaurantes registrados?"
   ]
  },
  {
   "cell_type": "code",
   "execution_count": 39,
   "metadata": {},
   "outputs": [
    {
     "data": {
      "text/plain": [
       "'Abu Dhabi'"
      ]
     },
     "execution_count": 39,
     "metadata": {},
     "output_type": "execute_result"
    }
   ],
   "source": [
    "(df2.loc[:, ['restaurant_id', 'city'] ]\n",
    "                                    .groupby('city')\n",
    "                                    .count()\n",
    "                                    .sort_values('restaurant_id', ascending=False)\n",
    "                                    .reset_index()).iloc[0, 0]"
   ]
  },
  {
   "cell_type": "markdown",
   "metadata": {},
   "source": [
    "### 2. Qual o nome da cidade que possui mais restaurantes com nota média acima de 4?"
   ]
  },
  {
   "cell_type": "code",
   "execution_count": 40,
   "metadata": {},
   "outputs": [
    {
     "data": {
      "text/plain": [
       "'London'"
      ]
     },
     "execution_count": 40,
     "metadata": {},
     "output_type": "execute_result"
    }
   ],
   "source": [
    "(df2.loc[df2['aggregate_rating'] >= 4, ['restaurant_id', 'city'] ]\n",
    "                                         .groupby('city')\n",
    "                                         .count()\n",
    "                                         .sort_values('restaurant_id', ascending=False)\n",
    "                                         .reset_index()).iloc[0, 0]"
   ]
  },
  {
   "cell_type": "markdown",
   "metadata": {},
   "source": [
    "### 3. Qual o nome da cidade que possui mais restaurantes com nota média abaixo de 2.5?"
   ]
  },
  {
   "cell_type": "code",
   "execution_count": 41,
   "metadata": {},
   "outputs": [
    {
     "data": {
      "text/plain": [
       "'Gangtok'"
      ]
     },
     "execution_count": 41,
     "metadata": {},
     "output_type": "execute_result"
    }
   ],
   "source": [
    "(df2.loc[df2['aggregate_rating'] <= 2.5, ['restaurant_id', 'city'] ]\n",
    "                                         .groupby('city')\n",
    "                                         .count()\n",
    "                                         .sort_values('restaurant_id', ascending=False)\n",
    "                                         .reset_index()).iloc[0,0]"
   ]
  },
  {
   "cell_type": "markdown",
   "metadata": {},
   "source": [
    "### 4. Qual o nome da cidade que possui o maior valor médio de um prato para dois?"
   ]
  },
  {
   "cell_type": "code",
   "execution_count": 42,
   "metadata": {},
   "outputs": [
    {
     "data": {
      "text/plain": [
       "'Adelaide'"
      ]
     },
     "execution_count": 42,
     "metadata": {},
     "output_type": "execute_result"
    }
   ],
   "source": [
    "(df2.loc[:, ['average_cost_for_two', 'city'] ]\n",
    "                                         .groupby('city')\n",
    "                                         .mean()\n",
    "                                         .sort_values('average_cost_for_two', ascending=False)\n",
    "                                         .reset_index()).iloc[0, 0]"
   ]
  },
  {
   "cell_type": "markdown",
   "metadata": {},
   "source": [
    "### 5. Qual o nome da cidade que possui a maior quantidade de tipos de culinária distintas?"
   ]
  },
  {
   "cell_type": "code",
   "execution_count": 43,
   "metadata": {},
   "outputs": [
    {
     "data": {
      "text/plain": [
       "'Birmingham'"
      ]
     },
     "execution_count": 43,
     "metadata": {},
     "output_type": "execute_result"
    }
   ],
   "source": [
    "(df2.loc[:, ['cuisines', 'city'] ]\n",
    "                                .groupby('city')\n",
    "                                .nunique()\n",
    "                                .sort_values('cuisines', ascending=False)\n",
    "                                .reset_index()).iloc[0, 0]"
   ]
  },
  {
   "cell_type": "markdown",
   "metadata": {},
   "source": [
    "### 6. Qual o nome da cidade que possui a maior quantidade de restaurantes que fazem reservas?"
   ]
  },
  {
   "cell_type": "code",
   "execution_count": 44,
   "metadata": {},
   "outputs": [
    {
     "data": {
      "text/plain": [
       "'Bangalore'"
      ]
     },
     "execution_count": 44,
     "metadata": {},
     "output_type": "execute_result"
    }
   ],
   "source": [
    "(df2.loc[df2['has_table_booking'] == 1, ['restaurant_id', 'city'] ]\n",
    "                                         .groupby('city')\n",
    "                                         .count()\n",
    "                                         .sort_values('restaurant_id', ascending=False)\n",
    "                                         .reset_index()).iloc[0, 0]"
   ]
  },
  {
   "cell_type": "markdown",
   "metadata": {},
   "source": [
    "### 7. Qual o nome da cidade que possui a maior quantidade de restaurantes que fazem entregas?"
   ]
  },
  {
   "cell_type": "code",
   "execution_count": 45,
   "metadata": {},
   "outputs": [
    {
     "data": {
      "text/plain": [
       "'Vadodara'"
      ]
     },
     "execution_count": 45,
     "metadata": {},
     "output_type": "execute_result"
    }
   ],
   "source": [
    "(df2.loc[df2['is_delivering_now'] == 1, ['restaurant_id', 'city'] ]\n",
    "                                         .groupby('city')\n",
    "                                         .count()\n",
    "                                         .sort_values('restaurant_id', ascending=False)\n",
    "                                         .reset_index()).iloc[0,0]"
   ]
  },
  {
   "cell_type": "markdown",
   "metadata": {},
   "source": [
    "### 8. Qual o nome da cidade que possui a maior quantidade de restaurantes que aceitam pedidos online?"
   ]
  },
  {
   "cell_type": "code",
   "execution_count": 46,
   "metadata": {},
   "outputs": [
    {
     "data": {
      "text/plain": [
       "'Bhopal'"
      ]
     },
     "execution_count": 46,
     "metadata": {},
     "output_type": "execute_result"
    }
   ],
   "source": [
    "(df2.loc[df2['has_online_delivery'] == 1, ['restaurant_id', 'city'] ]\n",
    "                                         .groupby('city')\n",
    "                                         .count()\n",
    "                                         .sort_values('restaurant_id', ascending=False)\n",
    "                                         .reset_index()).iloc[0, 0]"
   ]
  },
  {
   "cell_type": "markdown",
   "metadata": {},
   "source": [
    "## Restaurantes"
   ]
  },
  {
   "cell_type": "markdown",
   "metadata": {},
   "source": [
    "### 1. Qual o nome do restaurante que possui a maior quantidade de avaliações?"
   ]
  },
  {
   "cell_type": "code",
   "execution_count": 47,
   "metadata": {},
   "outputs": [
    {
     "data": {
      "text/plain": [
       "'Bawarchi'"
      ]
     },
     "execution_count": 47,
     "metadata": {},
     "output_type": "execute_result"
    }
   ],
   "source": [
    "cols = [\n",
    "    'restaurant_id', 'restaurant_name', 'country', \n",
    "    'city', 'cuisines', 'aggregate_rating', 'votes'\n",
    "]\n",
    "\n",
    "df2.loc[:, cols].sort_values(['votes', 'restaurant_id'], ascending=[False, True]).iloc[0, 1]"
   ]
  },
  {
   "cell_type": "markdown",
   "metadata": {},
   "source": [
    "### 2. Qual o nome do restaurante com a maior nota média?"
   ]
  },
  {
   "cell_type": "code",
   "execution_count": 48,
   "metadata": {},
   "outputs": [
    {
     "data": {
      "text/plain": [
       "'Indian Grill Room'"
      ]
     },
     "execution_count": 48,
     "metadata": {},
     "output_type": "execute_result"
    }
   ],
   "source": [
    "cols = [\n",
    "    'restaurant_id', 'restaurant_name', 'country', \n",
    "    'city', 'cuisines', 'aggregate_rating', 'votes'\n",
    "]\n",
    "\n",
    "df2.loc[:, cols].sort_values(['aggregate_rating', 'restaurant_id'], ascending=[False, True]).iloc[0, 1]"
   ]
  },
  {
   "cell_type": "markdown",
   "metadata": {},
   "source": [
    "### 3. Qual o nome do restaurante que possui o maior valor de uma prato para duas pessoas?"
   ]
  },
  {
   "cell_type": "code",
   "execution_count": 49,
   "metadata": {},
   "outputs": [
    {
     "data": {
      "text/plain": [
       "\"d'Arry's Verandah Restaurant\""
      ]
     },
     "execution_count": 49,
     "metadata": {},
     "output_type": "execute_result"
    }
   ],
   "source": [
    "cols = [\n",
    "    'restaurant_id', 'restaurant_name', 'country', \n",
    "    'city', 'cuisines', 'average_cost_for_two', \n",
    "    'aggregate_rating', 'votes'\n",
    "]\n",
    "\n",
    "df2.loc[:, cols].sort_values(['average_cost_for_two', 'restaurant_id'], ascending=[False, True]).iloc[0, 1]"
   ]
  },
  {
   "cell_type": "markdown",
   "metadata": {},
   "source": [
    "### 4. Qual o nome do restaurante de tipo de culinária brasileira que possui a menor média de avaliação?"
   ]
  },
  {
   "cell_type": "code",
   "execution_count": 50,
   "metadata": {},
   "outputs": [
    {
     "data": {
      "text/plain": [
       "\"d'Arry's Verandah Restaurant\""
      ]
     },
     "execution_count": 50,
     "metadata": {},
     "output_type": "execute_result"
    }
   ],
   "source": [
    "cols = [\n",
    "    'restaurant_id', 'restaurant_name', 'country', \n",
    "    'city', 'cuisines', 'average_cost_for_two', \n",
    "    'aggregate_rating', 'votes'\n",
    "]\n",
    "\n",
    "df2.loc[:, cols].sort_values(['average_cost_for_two', 'restaurant_id'], ascending=[False, True]).iloc[0, 1]"
   ]
  },
  {
   "cell_type": "markdown",
   "metadata": {},
   "source": [
    "### 5. Qual o nome do restaurante de tipo de culinária brasileira, e que é do Brasil, que possui a maior média de avaliação?"
   ]
  },
  {
   "cell_type": "code",
   "execution_count": 51,
   "metadata": {},
   "outputs": [
    {
     "data": {
      "text/plain": [
       "'Oro'"
      ]
     },
     "execution_count": 51,
     "metadata": {},
     "output_type": "execute_result"
    }
   ],
   "source": [
    "cols = [\n",
    "    'restaurant_id', 'restaurant_name', 'country', \n",
    "    'city', 'cuisines', 'average_cost_for_two', \n",
    "    'aggregate_rating', 'votes'\n",
    "]\n",
    "\n",
    "lines = (df2['country'] == 'Brazil') & (df2['cuisines'] == 'Brazilian')\n",
    "\n",
    "df2.loc[lines, cols].sort_values(['average_cost_for_two', 'restaurant_id'], ascending=[False, True]).iloc[0, 1]"
   ]
  },
  {
   "cell_type": "markdown",
   "metadata": {},
   "source": [
    "### 6. Os restaurantes que aceitam pedido online são também, na média, os restaurantes que mais possuem avaliações registradas?"
   ]
  },
  {
   "cell_type": "code",
   "execution_count": 52,
   "metadata": {},
   "outputs": [
    {
     "data": {
      "text/html": [
       "<div>\n",
       "<style scoped>\n",
       "    .dataframe tbody tr th:only-of-type {\n",
       "        vertical-align: middle;\n",
       "    }\n",
       "\n",
       "    .dataframe tbody tr th {\n",
       "        vertical-align: top;\n",
       "    }\n",
       "\n",
       "    .dataframe thead th {\n",
       "        text-align: right;\n",
       "    }\n",
       "</style>\n",
       "<table border=\"1\" class=\"dataframe\">\n",
       "  <thead>\n",
       "    <tr style=\"text-align: right;\">\n",
       "      <th></th>\n",
       "      <th>has_online_delivery</th>\n",
       "      <th>votes</th>\n",
       "    </tr>\n",
       "  </thead>\n",
       "  <tbody>\n",
       "    <tr>\n",
       "      <th>0</th>\n",
       "      <td>1</td>\n",
       "      <td>838.821664</td>\n",
       "    </tr>\n",
       "    <tr>\n",
       "      <th>1</th>\n",
       "      <td>0</td>\n",
       "      <td>479.421018</td>\n",
       "    </tr>\n",
       "  </tbody>\n",
       "</table>\n",
       "</div>"
      ],
      "text/plain": [
       "   has_online_delivery       votes\n",
       "0                    1  838.821664\n",
       "1                    0  479.421018"
      ]
     },
     "execution_count": 52,
     "metadata": {},
     "output_type": "execute_result"
    }
   ],
   "source": [
    "(df2.loc[:, ['votes', 'has_online_delivery'] ]\n",
    "                                         .groupby('has_online_delivery')\n",
    "                                         .mean()\n",
    "                                         .sort_values('votes', ascending=False)\n",
    "                                         .reset_index())"
   ]
  },
  {
   "cell_type": "markdown",
   "metadata": {},
   "source": [
    "### 7. Os restaurantes que fazem reservas são também, na média, os restaurantes que possuem o maior valor médio de um prato para duas pessoas?"
   ]
  },
  {
   "cell_type": "code",
   "execution_count": 53,
   "metadata": {},
   "outputs": [
    {
     "data": {
      "text/html": [
       "<div>\n",
       "<style scoped>\n",
       "    .dataframe tbody tr th:only-of-type {\n",
       "        vertical-align: middle;\n",
       "    }\n",
       "\n",
       "    .dataframe tbody tr th {\n",
       "        vertical-align: top;\n",
       "    }\n",
       "\n",
       "    .dataframe thead th {\n",
       "        text-align: right;\n",
       "    }\n",
       "</style>\n",
       "<table border=\"1\" class=\"dataframe\">\n",
       "  <thead>\n",
       "    <tr style=\"text-align: right;\">\n",
       "      <th></th>\n",
       "      <th>has_table_booking</th>\n",
       "      <th>average_cost_for_two</th>\n",
       "    </tr>\n",
       "  </thead>\n",
       "  <tbody>\n",
       "    <tr>\n",
       "      <th>0</th>\n",
       "      <td>1</td>\n",
       "      <td>69998.423810</td>\n",
       "    </tr>\n",
       "    <tr>\n",
       "      <th>1</th>\n",
       "      <td>0</td>\n",
       "      <td>3488.596866</td>\n",
       "    </tr>\n",
       "  </tbody>\n",
       "</table>\n",
       "</div>"
      ],
      "text/plain": [
       "   has_table_booking  average_cost_for_two\n",
       "0                  1          69998.423810\n",
       "1                  0           3488.596866"
      ]
     },
     "execution_count": 53,
     "metadata": {},
     "output_type": "execute_result"
    }
   ],
   "source": [
    "(df2.loc[:, ['average_cost_for_two', 'has_table_booking'] ]\n",
    "                                         .groupby('has_table_booking')\n",
    "                                         .mean()\n",
    "                                         .sort_values('average_cost_for_two', ascending=False)\n",
    "                                         .reset_index())"
   ]
  },
  {
   "cell_type": "markdown",
   "metadata": {},
   "source": [
    "### 8. Os restaurantes do tipo de culinária japonesa dos Estados Unidos da América possuem um valor médio de prato para duas pessoas maior que as churrascarias americanas (BBQ)?"
   ]
  },
  {
   "cell_type": "code",
   "execution_count": 54,
   "metadata": {},
   "outputs": [
    {
     "data": {
      "text/html": [
       "<div>\n",
       "<style scoped>\n",
       "    .dataframe tbody tr th:only-of-type {\n",
       "        vertical-align: middle;\n",
       "    }\n",
       "\n",
       "    .dataframe tbody tr th {\n",
       "        vertical-align: top;\n",
       "    }\n",
       "\n",
       "    .dataframe thead th {\n",
       "        text-align: right;\n",
       "    }\n",
       "</style>\n",
       "<table border=\"1\" class=\"dataframe\">\n",
       "  <thead>\n",
       "    <tr style=\"text-align: right;\">\n",
       "      <th></th>\n",
       "      <th>cuisines</th>\n",
       "      <th>average_cost_for_two</th>\n",
       "    </tr>\n",
       "  </thead>\n",
       "  <tbody>\n",
       "    <tr>\n",
       "      <th>0</th>\n",
       "      <td>Japanese</td>\n",
       "      <td>56.406250</td>\n",
       "    </tr>\n",
       "    <tr>\n",
       "      <th>1</th>\n",
       "      <td>BBQ</td>\n",
       "      <td>39.642857</td>\n",
       "    </tr>\n",
       "  </tbody>\n",
       "</table>\n",
       "</div>"
      ],
      "text/plain": [
       "   cuisines  average_cost_for_two\n",
       "0  Japanese             56.406250\n",
       "1       BBQ             39.642857"
      ]
     },
     "execution_count": 54,
     "metadata": {},
     "output_type": "execute_result"
    }
   ],
   "source": [
    "lines = (df2['country'] == 'United States of America') & ((df2['cuisines'] == 'BBQ') | (df2['cuisines'] == 'Japanese'))\n",
    "\n",
    "(df2.loc[lines, ['average_cost_for_two', 'cuisines'] ]\n",
    "                                         .groupby('cuisines')\n",
    "                                         .mean()\n",
    "                                         .sort_values('average_cost_for_two', ascending=False)\n",
    "                                         .reset_index())"
   ]
  },
  {
   "cell_type": "markdown",
   "metadata": {},
   "source": [
    "## Tipo de Colunária"
   ]
  },
  {
   "cell_type": "markdown",
   "metadata": {},
   "source": [
    "### 1. Dos restaurantes que possuem o tipo de culinária italiana, qual o nome do restaurante com a maior média de avaliação?"
   ]
  },
  {
   "cell_type": "code",
   "execution_count": 55,
   "metadata": {},
   "outputs": [
    {
     "data": {
      "text/plain": [
       "'Darshan'"
      ]
     },
     "execution_count": 55,
     "metadata": {},
     "output_type": "execute_result"
    }
   ],
   "source": [
    "cols = [\n",
    "    'restaurant_id', 'restaurant_name', 'country', \n",
    "    'city', 'cuisines', 'average_cost_for_two', \n",
    "    'aggregate_rating', 'votes'\n",
    "]\n",
    "\n",
    "lines = (df2['cuisines'] == 'Italian')\n",
    "\n",
    "df2.loc[lines, cols].sort_values(['aggregate_rating', 'restaurant_id'], ascending=[False, True]).iloc[0, 1]"
   ]
  },
  {
   "cell_type": "markdown",
   "metadata": {},
   "source": [
    "### 2. Dos restaurantes que possuem o tipo de culinária italiana, qual o nome do restaurante com a menor média de avaliação?"
   ]
  },
  {
   "cell_type": "code",
   "execution_count": 56,
   "metadata": {},
   "outputs": [
    {
     "data": {
      "text/plain": [
       "'Avenida Paulista'"
      ]
     },
     "execution_count": 56,
     "metadata": {},
     "output_type": "execute_result"
    }
   ],
   "source": [
    "cols = [\n",
    "    'restaurant_id', 'restaurant_name', 'country', \n",
    "    'city', 'cuisines', 'average_cost_for_two', \n",
    "    'aggregate_rating', 'votes'\n",
    "]\n",
    "\n",
    "lines = (df2['cuisines'] == 'Italian')\n",
    "\n",
    "df2.loc[lines, cols].sort_values(['aggregate_rating', 'restaurant_id'], ascending=[True, True]).iloc[0,1]"
   ]
  },
  {
   "cell_type": "markdown",
   "metadata": {},
   "source": [
    "### 3. Dos restaurantes que possuem o tipo de culinária americana, qual o nome do restaurante com a maior média de avaliação?"
   ]
  },
  {
   "cell_type": "code",
   "execution_count": 57,
   "metadata": {},
   "outputs": [
    {
     "data": {
      "text/plain": [
       "'Burger & Lobster'"
      ]
     },
     "execution_count": 57,
     "metadata": {},
     "output_type": "execute_result"
    }
   ],
   "source": [
    "cols = [\n",
    "    'restaurant_id', 'restaurant_name', 'country', \n",
    "    'city', 'cuisines', 'average_cost_for_two', \n",
    "    'aggregate_rating', 'votes'\n",
    "]\n",
    "\n",
    "lines = (df2['cuisines'] == 'American')\n",
    "\n",
    "df2.loc[lines, cols].sort_values(['aggregate_rating', 'restaurant_id'], ascending=[False, True]).iloc[0, 1]"
   ]
  },
  {
   "cell_type": "markdown",
   "metadata": {},
   "source": [
    "### 4. Dos restaurantes que possuem o tipo de culinária americana, qual o nome do restaurante com a menor média de avaliação?"
   ]
  },
  {
   "cell_type": "code",
   "execution_count": 58,
   "metadata": {},
   "outputs": [
    {
     "data": {
      "text/plain": [
       "'Alston Bar & Beef'"
      ]
     },
     "execution_count": 58,
     "metadata": {},
     "output_type": "execute_result"
    }
   ],
   "source": [
    "cols = [\n",
    "    'restaurant_id', 'restaurant_name', 'country', \n",
    "    'city', 'cuisines', 'average_cost_for_two', \n",
    "    'aggregate_rating', 'votes'\n",
    "]\n",
    "\n",
    "lines = (df2['cuisines'] == 'American')\n",
    "\n",
    "df2.loc[lines, cols].sort_values(['aggregate_rating', 'restaurant_id'], ascending=[True, True]).iloc[0, 1]"
   ]
  },
  {
   "cell_type": "markdown",
   "metadata": {},
   "source": [
    "### 5. Dos restaurantes que possuem o tipo de culinária árabe, qual o nome do restaurante com a maior média de avaliação?"
   ]
  },
  {
   "cell_type": "code",
   "execution_count": 59,
   "metadata": {},
   "outputs": [
    {
     "data": {
      "text/plain": [
       "'Mandi@36'"
      ]
     },
     "execution_count": 59,
     "metadata": {},
     "output_type": "execute_result"
    }
   ],
   "source": [
    "cols = [\n",
    "    'restaurant_id', 'restaurant_name', 'country', \n",
    "    'city', 'cuisines', 'average_cost_for_two', \n",
    "    'aggregate_rating', 'votes'\n",
    "]\n",
    "\n",
    "lines = (df2['cuisines'] == 'Arabian')\n",
    "\n",
    "df2.loc[lines, cols].sort_values(['aggregate_rating', 'restaurant_id'], ascending=[False, True]).iloc[0, 1]"
   ]
  },
  {
   "cell_type": "markdown",
   "metadata": {},
   "source": [
    "### 6. Dos restaurantes que possuem o tipo de culinária árabe, qual o nome do restaurante com a menor média de avaliação?"
   ]
  },
  {
   "cell_type": "code",
   "execution_count": 60,
   "metadata": {},
   "outputs": [
    {
     "data": {
      "text/plain": [
       "'Raful'"
      ]
     },
     "execution_count": 60,
     "metadata": {},
     "output_type": "execute_result"
    }
   ],
   "source": [
    "cols = [\n",
    "    'restaurant_id', 'restaurant_name', 'country', \n",
    "    'city', 'cuisines', 'average_cost_for_two', \n",
    "    'aggregate_rating', 'votes'\n",
    "]\n",
    "\n",
    "lines = (df2['cuisines'] == 'Arabian')\n",
    "\n",
    "df2.loc[lines, cols].sort_values(['aggregate_rating', 'restaurant_id'], ascending=[True, True]).iloc[0, 1]"
   ]
  },
  {
   "cell_type": "markdown",
   "metadata": {},
   "source": [
    "### 7. Dos restaurantes que possuem o tipo de culinária japonesa, qual o nome do restaurante com a maior média de avaliação?"
   ]
  },
  {
   "cell_type": "code",
   "execution_count": 61,
   "metadata": {},
   "outputs": [
    {
     "data": {
      "text/plain": [
       "'Sushi Samba'"
      ]
     },
     "execution_count": 61,
     "metadata": {},
     "output_type": "execute_result"
    }
   ],
   "source": [
    "cols = [\n",
    "    'restaurant_id', 'restaurant_name', 'country', \n",
    "    'city', 'cuisines', 'average_cost_for_two', \n",
    "    'aggregate_rating', 'votes'\n",
    "]\n",
    "\n",
    "lines = (df2['cuisines'] == 'Japanese')\n",
    "\n",
    "df2.loc[lines, cols].sort_values(['aggregate_rating', 'restaurant_id'], ascending=[False, True]).iloc[0, 1]"
   ]
  },
  {
   "cell_type": "markdown",
   "metadata": {},
   "source": [
    "### 8. Dos restaurantes que possuem o tipo de culinária japonesa, qual o nome do restaurante com a menor média de avaliação?"
   ]
  },
  {
   "cell_type": "code",
   "execution_count": 62,
   "metadata": {},
   "outputs": [
    {
     "data": {
      "text/plain": [
       "'Banzai Sushi'"
      ]
     },
     "execution_count": 62,
     "metadata": {},
     "output_type": "execute_result"
    }
   ],
   "source": [
    "cols = [\n",
    "    'restaurant_id', 'restaurant_name', 'country', \n",
    "    'city', 'cuisines', 'average_cost_for_two', \n",
    "    'aggregate_rating', 'votes'\n",
    "]\n",
    "\n",
    "lines = (df2['cuisines'] == 'Japanese')\n",
    "\n",
    "df2.loc[lines, cols].sort_values(['aggregate_rating', 'restaurant_id'], ascending=[True, True]).iloc[0, 1]"
   ]
  },
  {
   "cell_type": "markdown",
   "metadata": {},
   "source": [
    "### 9. Dos restaurantes que possuem o tipo de culinária caseira, qual o nome do restaurante com a maior média de avaliação?"
   ]
  },
  {
   "cell_type": "code",
   "execution_count": 63,
   "metadata": {},
   "outputs": [
    {
     "data": {
      "text/plain": [
       "'Kanaat Lokantası'"
      ]
     },
     "execution_count": 63,
     "metadata": {},
     "output_type": "execute_result"
    }
   ],
   "source": [
    "cols = [\n",
    "    'restaurant_id', 'restaurant_name', 'country', \n",
    "    'city', 'cuisines', 'average_cost_for_two', \n",
    "    'aggregate_rating', 'votes'\n",
    "]\n",
    "\n",
    "lines = (df2['cuisines'] == 'Home-made')\n",
    "\n",
    "df2.loc[lines, cols].sort_values(['aggregate_rating', 'restaurant_id'], ascending=[False, True]).iloc[0, 1]"
   ]
  },
  {
   "cell_type": "markdown",
   "metadata": {},
   "source": [
    "### 10. Dos restaurantes que possuem o tipo de culinária caseira, qual o nome do restaurante com a menor média de avaliação?"
   ]
  },
  {
   "cell_type": "code",
   "execution_count": 64,
   "metadata": {},
   "outputs": [
    {
     "data": {
      "text/plain": [
       "'GurMekan Restaurant'"
      ]
     },
     "execution_count": 64,
     "metadata": {},
     "output_type": "execute_result"
    }
   ],
   "source": [
    "cols = [\n",
    "    'restaurant_id', 'restaurant_name', 'country', \n",
    "    'city', 'cuisines', 'average_cost_for_two', \n",
    "    'aggregate_rating', 'votes'\n",
    "]\n",
    "\n",
    "lines = (df2['cuisines'] == 'Home-made')\n",
    "\n",
    "df2.loc[lines, cols].sort_values(['aggregate_rating', 'restaurant_id'], ascending=[True, True]).iloc[0, 1]"
   ]
  },
  {
   "cell_type": "markdown",
   "metadata": {},
   "source": [
    "### 11. Qual o tipo de culinária que possui o maior valor médio de um prato para duas pessoas?"
   ]
  },
  {
   "cell_type": "code",
   "execution_count": 65,
   "metadata": {},
   "outputs": [
    {
     "data": {
      "text/html": [
       "<div>\n",
       "<style scoped>\n",
       "    .dataframe tbody tr th:only-of-type {\n",
       "        vertical-align: middle;\n",
       "    }\n",
       "\n",
       "    .dataframe tbody tr th {\n",
       "        vertical-align: top;\n",
       "    }\n",
       "\n",
       "    .dataframe thead th {\n",
       "        text-align: right;\n",
       "    }\n",
       "</style>\n",
       "<table border=\"1\" class=\"dataframe\">\n",
       "  <thead>\n",
       "    <tr style=\"text-align: right;\">\n",
       "      <th></th>\n",
       "      <th>cuisines</th>\n",
       "      <th>average_cost_for_two</th>\n",
       "    </tr>\n",
       "  </thead>\n",
       "  <tbody>\n",
       "    <tr>\n",
       "      <th>0</th>\n",
       "      <td>Modern Australian</td>\n",
       "      <td>25000017</td>\n",
       "    </tr>\n",
       "  </tbody>\n",
       "</table>\n",
       "</div>"
      ],
      "text/plain": [
       "            cuisines  average_cost_for_two\n",
       "0  Modern Australian              25000017"
      ]
     },
     "execution_count": 65,
     "metadata": {},
     "output_type": "execute_result"
    }
   ],
   "source": [
    "(df2.loc[:, ['average_cost_for_two', 'cuisines'] ]\n",
    "                                         .groupby('cuisines')\n",
    "                                         .max()\n",
    "                                         .sort_values('average_cost_for_two', ascending=False)\n",
    "                                         .reset_index()).head(1)"
   ]
  },
  {
   "cell_type": "markdown",
   "metadata": {},
   "source": [
    "### 12. Qual o tipo de culinária que possui a maior nota média?"
   ]
  },
  {
   "cell_type": "code",
   "execution_count": 124,
   "metadata": {},
   "outputs": [
    {
     "data": {
      "text/html": [
       "<div>\n",
       "<style scoped>\n",
       "    .dataframe tbody tr th:only-of-type {\n",
       "        vertical-align: middle;\n",
       "    }\n",
       "\n",
       "    .dataframe tbody tr th {\n",
       "        vertical-align: top;\n",
       "    }\n",
       "\n",
       "    .dataframe thead th {\n",
       "        text-align: right;\n",
       "    }\n",
       "</style>\n",
       "<table border=\"1\" class=\"dataframe\">\n",
       "  <thead>\n",
       "    <tr style=\"text-align: right;\">\n",
       "      <th></th>\n",
       "      <th>cuisines</th>\n",
       "      <th>aggregate_rating</th>\n",
       "    </tr>\n",
       "  </thead>\n",
       "  <tbody>\n",
       "    <tr>\n",
       "      <th>0</th>\n",
       "      <td>Indian</td>\n",
       "      <td>4.9</td>\n",
       "    </tr>\n",
       "  </tbody>\n",
       "</table>\n",
       "</div>"
      ],
      "text/plain": [
       "  cuisines  aggregate_rating\n",
       "0   Indian               4.9"
      ]
     },
     "execution_count": 124,
     "metadata": {},
     "output_type": "execute_result"
    }
   ],
   "source": [
    "(df2.loc[:, ['aggregate_rating', 'cuisines'] ]\n",
    "                                         .groupby('cuisines')\n",
    "                                         .max()\n",
    "                                         .sort_values('aggregate_rating', ascending=False)\n",
    "                                         .reset_index()).head(1)"
   ]
  },
  {
   "cell_type": "markdown",
   "metadata": {},
   "source": [
    "### 13. Qual o tipo de culinária que possui mais restaurantes que aceitam pedidos online e fazem entregas?"
   ]
  },
  {
   "cell_type": "code",
   "execution_count": 67,
   "metadata": {},
   "outputs": [
    {
     "data": {
      "text/html": [
       "<div>\n",
       "<style scoped>\n",
       "    .dataframe tbody tr th:only-of-type {\n",
       "        vertical-align: middle;\n",
       "    }\n",
       "\n",
       "    .dataframe tbody tr th {\n",
       "        vertical-align: top;\n",
       "    }\n",
       "\n",
       "    .dataframe thead th {\n",
       "        text-align: right;\n",
       "    }\n",
       "</style>\n",
       "<table border=\"1\" class=\"dataframe\">\n",
       "  <thead>\n",
       "    <tr style=\"text-align: right;\">\n",
       "      <th></th>\n",
       "      <th>cuisines</th>\n",
       "      <th>restaurant_id</th>\n",
       "    </tr>\n",
       "  </thead>\n",
       "  <tbody>\n",
       "    <tr>\n",
       "      <th>0</th>\n",
       "      <td>North Indian</td>\n",
       "      <td>878</td>\n",
       "    </tr>\n",
       "  </tbody>\n",
       "</table>\n",
       "</div>"
      ],
      "text/plain": [
       "       cuisines  restaurant_id\n",
       "0  North Indian            878"
      ]
     },
     "execution_count": 67,
     "metadata": {},
     "output_type": "execute_result"
    }
   ],
   "source": [
    "lines = (df2['has_online_delivery'] == 1) & (df2['is_delivering_now'] == 1)\n",
    "\n",
    "(df2.loc[:, ['restaurant_id', 'cuisines'] ]\n",
    "                                         .groupby('cuisines')\n",
    "                                         .count()\n",
    "                                         .sort_values('restaurant_id', ascending=False)\n",
    "                                         .reset_index()).head(1)"
   ]
  },
  {
   "cell_type": "markdown",
   "metadata": {},
   "source": []
  }
 ],
 "metadata": {
  "kernelspec": {
   "display_name": "Python 3.9.13 64-bit ('ftc_analise')",
   "language": "python",
   "name": "python3"
  },
  "language_info": {
   "codemirror_mode": {
    "name": "ipython",
    "version": 3
   },
   "file_extension": ".py",
   "mimetype": "text/x-python",
   "name": "python",
   "nbconvert_exporter": "python",
   "pygments_lexer": "ipython3",
   "version": "3.9.13"
  },
  "orig_nbformat": 4,
  "vscode": {
   "interpreter": {
    "hash": "b12a8bdec35d2e847661d9e6f531db0e6e771c195c35d0089068981192007f0f"
   }
  }
 },
 "nbformat": 4,
 "nbformat_minor": 2
}
